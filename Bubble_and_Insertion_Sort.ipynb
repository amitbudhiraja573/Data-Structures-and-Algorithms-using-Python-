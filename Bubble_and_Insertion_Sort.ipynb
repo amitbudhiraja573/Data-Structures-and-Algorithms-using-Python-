{
 "cells": [
  {
   "cell_type": "markdown",
   "id": "1eb319b7",
   "metadata": {},
   "source": [
    "# Notebook contents : \n",
    "- Bubble Sort \n",
    "- Insertion Sort \n",
    "- Insertion Sort(Optimized version using Binary Search)"
   ]
  },
  {
   "cell_type": "code",
   "execution_count": null,
   "id": "f062ea7c",
   "metadata": {},
   "outputs": [],
   "source": []
  },
  {
   "cell_type": "markdown",
   "id": "6039b730",
   "metadata": {},
   "source": [
    "__Creating different Test Cases for Sorting__"
   ]
  },
  {
   "cell_type": "code",
   "execution_count": 1,
   "id": "5588c467",
   "metadata": {},
   "outputs": [],
   "source": [
    "tests=[]"
   ]
  },
  {
   "cell_type": "code",
   "execution_count": 2,
   "id": "d680cb26",
   "metadata": {},
   "outputs": [],
   "source": [
    "# Random values\n",
    "tests.append({'input':\n",
    "              {'nums':[8,4,0,2,1]}\n",
    "              , 'Output':[0 , 1 , 2 , 4 , 8]})"
   ]
  },
  {
   "cell_type": "code",
   "execution_count": 3,
   "id": "96a166e3",
   "metadata": {},
   "outputs": [],
   "source": [
    "# only 1 element in the list\n",
    "tests.append({'input':\n",
    "              {'nums':[1]}\n",
    "              , 'Output':[1]})"
   ]
  },
  {
   "cell_type": "code",
   "execution_count": 4,
   "id": "b87fc238",
   "metadata": {},
   "outputs": [],
   "source": [
    "# already sorted\n",
    "tests.append({'input':\n",
    "              {'nums':[1,2,3,4,5]}\n",
    "              , 'Output':[1,2,3,4,5]})"
   ]
  },
  {
   "cell_type": "code",
   "execution_count": 5,
   "id": "6cb3bd93",
   "metadata": {},
   "outputs": [],
   "source": [
    "# empty list\n",
    "tests.append({'input':\n",
    "              {'nums':[]}\n",
    "              , 'Output':[]})"
   ]
  },
  {
   "cell_type": "code",
   "execution_count": 6,
   "id": "5bb6008c",
   "metadata": {},
   "outputs": [],
   "source": [
    "# already sorted in descending order\n",
    "tests.append({'input':\n",
    "              {'nums':[8,4,3,2,1,0]}\n",
    "              , 'Output':[0 , 1 , 2 , 3, 4 , 8]})"
   ]
  },
  {
   "cell_type": "code",
   "execution_count": 7,
   "id": "ba60b431",
   "metadata": {},
   "outputs": [],
   "source": [
    "# repeated elements\n",
    "tests.append({'input':\n",
    "              {'nums':[8 , 4 , 3 , 2 , 1 , 8 , 4 ,0]}\n",
    "              , 'Output':[0 , 1 , 2 , 3, 4 , 4 , 8 , 8]})"
   ]
  },
  {
   "cell_type": "code",
   "execution_count": 8,
   "id": "8db89e75",
   "metadata": {},
   "outputs": [
    {
     "data": {
      "text/plain": [
       "6"
      ]
     },
     "execution_count": 8,
     "metadata": {},
     "output_type": "execute_result"
    }
   ],
   "source": [
    "len(tests)  # these are the differnt test cases"
   ]
  },
  {
   "cell_type": "markdown",
   "id": "c6c5b09d",
   "metadata": {},
   "source": [
    "# 1) Bubble Sort "
   ]
  },
  {
   "cell_type": "markdown",
   "id": "c89f96b7",
   "metadata": {},
   "source": [
    "__Why called Bubble Sort ?__\n",
    "\n",
    "Because the heavy elements will settle to the bottom\n",
    "\n",
    "and the lighter will be bubble out "
   ]
  },
  {
   "cell_type": "markdown",
   "id": "21318d28",
   "metadata": {},
   "source": [
    "__Complexity :__\n",
    "\n",
    "__Time - O(n^2)__\n",
    "The outer loop is O(n) and followed by the inner loop O(n)\n",
    "\n",
    "__Space - O(1)__  \n",
    "No extra space required to sort the elements"
   ]
  },
  {
   "cell_type": "code",
   "execution_count": 9,
   "id": "0d62c63c",
   "metadata": {},
   "outputs": [],
   "source": [
    "def bubble_sort(nums):\n",
    "    length_nums=len(nums)-1\n",
    "\n",
    "    for j in range(len(nums)-1):\n",
    "        for i in range(length_nums):\n",
    "            if(nums[i] > nums[i+1]):\n",
    "                nums[i] , nums[i+1] = nums[i+1] , nums[i]\n",
    "        length_nums-=1\n",
    "    return nums"
   ]
  },
  {
   "cell_type": "code",
   "execution_count": 10,
   "id": "aeb2260b",
   "metadata": {},
   "outputs": [
    {
     "data": {
      "text/plain": [
       "[1, 2, 4, 7, 8]"
      ]
     },
     "execution_count": 10,
     "metadata": {},
     "output_type": "execute_result"
    }
   ],
   "source": [
    "bubble_sort([8 , 1 , 4 , 7 , 2])   # working fine "
   ]
  },
  {
   "cell_type": "code",
   "execution_count": 11,
   "id": "57fe32cb",
   "metadata": {},
   "outputs": [
    {
     "name": "stdout",
     "output_type": "stream",
     "text": [
      "Test Case no:  0\n",
      "Matched\n",
      "Test Case no:  1\n",
      "Matched\n",
      "Test Case no:  2\n",
      "Matched\n",
      "Test Case no:  3\n",
      "Matched\n",
      "Test Case no:  4\n",
      "Matched\n",
      "Test Case no:  5\n",
      "Matched\n"
     ]
    }
   ],
   "source": [
    "# Checking with test cases\n",
    "for i in range(len(tests)):\n",
    "    value=bubble_sort(tests[i]['input']['nums'])\n",
    "    print('Test Case no: ' , i)\n",
    "    if value == tests[i]['Output']:\n",
    "        print('Matched')\n",
    "    else:\n",
    "        print('not Matched')"
   ]
  },
  {
   "cell_type": "code",
   "execution_count": null,
   "id": "2168a9f2",
   "metadata": {},
   "outputs": [],
   "source": []
  },
  {
   "cell_type": "code",
   "execution_count": null,
   "id": "1ba935e7",
   "metadata": {},
   "outputs": [],
   "source": []
  },
  {
   "cell_type": "markdown",
   "id": "e73ca652",
   "metadata": {},
   "source": [
    "# 2) Insertion Sort"
   ]
  },
  {
   "cell_type": "markdown",
   "id": "6ea55f0f",
   "metadata": {},
   "source": [
    "__Time - O(n^2)__\n",
    "\n",
    "The outer loop will work for n times O(n)\n",
    "\n",
    "and inner loop will also work for n interations for the comparision O(n)\n",
    "\n",
    "\n",
    "__Space - O(1)__"
   ]
  },
  {
   "cell_type": "code",
   "execution_count": 12,
   "id": "28235285",
   "metadata": {},
   "outputs": [],
   "source": [
    "def insertion_sort(nums):\n",
    "    for i in range(len(nums)):\n",
    "        j = i-1\n",
    "        if j >=0 and nums[j]>nums[i]:\n",
    "            curr=nums.pop(i)\n",
    "            for k in range(0 , i):\n",
    "                if nums[k] > curr:\n",
    "                    nums.insert(k , curr)\n",
    "                    break\n",
    "    return nums"
   ]
  },
  {
   "cell_type": "code",
   "execution_count": 13,
   "id": "320d9fbf",
   "metadata": {},
   "outputs": [
    {
     "data": {
      "text/plain": [
       "[1, 2, 4, 7, 8]"
      ]
     },
     "execution_count": 13,
     "metadata": {},
     "output_type": "execute_result"
    }
   ],
   "source": [
    "insertion_sort([8 , 1 , 4 , 7 , 2])  # working fine"
   ]
  },
  {
   "cell_type": "code",
   "execution_count": 14,
   "id": "d412cb3d",
   "metadata": {},
   "outputs": [
    {
     "name": "stdout",
     "output_type": "stream",
     "text": [
      "Test No:  0\n",
      "Matched\n",
      "Test No:  1\n",
      "Matched\n",
      "Test No:  2\n",
      "Matched\n",
      "Test No:  3\n",
      "Matched\n",
      "Test No:  4\n",
      "Matched\n",
      "Test No:  5\n",
      "Matched\n"
     ]
    }
   ],
   "source": [
    "# Now Checking with testing set \n",
    "for i in range(len(tests)):\n",
    "    value = insertion_sort(tests[i]['input']['nums'])\n",
    "    print('Test No: ' , i)\n",
    "    if value == tests[i]['Output']:\n",
    "        print('Matched')\n",
    "    else:\n",
    "        print('not Matched')"
   ]
  },
  {
   "cell_type": "code",
   "execution_count": null,
   "id": "37d2e147",
   "metadata": {},
   "outputs": [],
   "source": []
  },
  {
   "cell_type": "code",
   "execution_count": null,
   "id": "bc11b64f",
   "metadata": {},
   "outputs": [],
   "source": []
  },
  {
   "cell_type": "markdown",
   "id": "706a8e39",
   "metadata": {},
   "source": [
    "# 3) Insertion Sort\n",
    "- (Optimized version using Binary Search)"
   ]
  },
  {
   "cell_type": "markdown",
   "id": "4c88102c",
   "metadata": {},
   "source": [
    "__Time - complexity <= O(nlogn)__\n",
    "\n",
    "Outer loop will work O(n)\n",
    "\n",
    "and Inner loop will work O(logn) in worst case\n",
    "\n",
    "__Space - O(1)__"
   ]
  },
  {
   "cell_type": "code",
   "execution_count": 20,
   "id": "d7f5770b",
   "metadata": {},
   "outputs": [],
   "source": [
    "# will return the index value by the Binary Search Method\n",
    "def helper_func(nums , curr , lo , hi):\n",
    "    mid = (lo+hi)//2\n",
    "    while(lo<=hi):\n",
    "        print('nums : {} , curr : {} , lo : {} , hi : {} and mid : {}'.format(nums, curr , lo , hi , mid))\n",
    "        if curr > nums[mid]:\n",
    "            if lo==len(nums)-1 and hi==len(nums)-1:   # edge case for end \n",
    "                return len(nums)-1\n",
    "            else:\n",
    "                return helper_func(nums , curr , mid+1 , hi)\n",
    "                # move right  \n",
    "            \n",
    "        elif curr<nums[mid]:\n",
    "            if nums[mid-1]<curr:\n",
    "                return mid\n",
    "            if lo==0 and hi==0:  # edge case for beiginning\n",
    "                return 0\n",
    "            \n",
    "            else:\n",
    "                return helper_func(nums , curr , lo , mid-1)\n",
    "                # move left\n",
    "    \n",
    "\n",
    "def insertion_sort_updated(nums):\n",
    "    for i in range(len(nums)):\n",
    "        j = i-1\n",
    "        if j >=0 and nums[j]>nums[i]:\n",
    "            curr=nums.pop(i)\n",
    "            index_val =helper_func(nums , curr , 0 , i-1)\n",
    "            nums.insert(index_val , curr)\n",
    "            continue  # loop will be working\n",
    "            \n",
    "    return nums"
   ]
  },
  {
   "cell_type": "code",
   "execution_count": 21,
   "id": "f891cded",
   "metadata": {},
   "outputs": [
    {
     "name": "stdout",
     "output_type": "stream",
     "text": [
      "nums : [8, 4, 7, 2] , curr : 1 , lo : 0 , hi : 0 and mid : 0\n",
      "nums : [1, 8, 7, 2] , curr : 4 , lo : 0 , hi : 1 and mid : 0\n",
      "nums : [1, 8, 7, 2] , curr : 4 , lo : 1 , hi : 1 and mid : 1\n",
      "nums : [1, 4, 8, 2] , curr : 7 , lo : 0 , hi : 2 and mid : 1\n",
      "nums : [1, 4, 8, 2] , curr : 7 , lo : 2 , hi : 2 and mid : 2\n",
      "nums : [1, 4, 7, 8] , curr : 2 , lo : 0 , hi : 3 and mid : 1\n"
     ]
    },
    {
     "data": {
      "text/plain": [
       "[1, 2, 4, 7, 8]"
      ]
     },
     "execution_count": 21,
     "metadata": {},
     "output_type": "execute_result"
    }
   ],
   "source": [
    "insertion_sort_updated([8 , 1 , 4 , 7 , 2])  # working fine"
   ]
  },
  {
   "cell_type": "code",
   "execution_count": 22,
   "id": "5ec0f117",
   "metadata": {},
   "outputs": [
    {
     "name": "stdout",
     "output_type": "stream",
     "text": [
      "Test No:  0\n",
      "Matched\n",
      "Test No:  1\n",
      "Matched\n",
      "Test No:  2\n",
      "Matched\n",
      "Test No:  3\n",
      "Matched\n",
      "Test No:  4\n",
      "Matched\n",
      "Test No:  5\n",
      "Matched\n"
     ]
    }
   ],
   "source": [
    "# Now Checking with testing set \n",
    "for i in range(len(tests)):\n",
    "    value = insertion_sort_updated(tests[i]['input']['nums'])\n",
    "    print('Test No: ' , i)\n",
    "    if value == tests[i]['Output']:\n",
    "        print('Matched')\n",
    "    else:\n",
    "        print('not Matched')"
   ]
  },
  {
   "cell_type": "code",
   "execution_count": null,
   "id": "8c0c19f3",
   "metadata": {},
   "outputs": [],
   "source": []
  }
 ],
 "metadata": {
  "kernelspec": {
   "display_name": "Python 3",
   "language": "python",
   "name": "python3"
  },
  "language_info": {
   "codemirror_mode": {
    "name": "ipython",
    "version": 3
   },
   "file_extension": ".py",
   "mimetype": "text/x-python",
   "name": "python",
   "nbconvert_exporter": "python",
   "pygments_lexer": "ipython3",
   "version": "3.7.10"
  }
 },
 "nbformat": 4,
 "nbformat_minor": 5
}
