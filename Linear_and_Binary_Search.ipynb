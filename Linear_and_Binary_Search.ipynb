{
 "cells": [
  {
   "cell_type": "markdown",
   "id": "14e20167",
   "metadata": {},
   "source": [
    "# Linear Search and Binary Search"
   ]
  },
  {
   "cell_type": "code",
   "execution_count": 1,
   "id": "b5b10f9e",
   "metadata": {},
   "outputs": [],
   "source": [
    "tests=[]"
   ]
  },
  {
   "cell_type": "markdown",
   "id": "a3e1f7f6",
   "metadata": {},
   "source": [
    "__There are different test cases__"
   ]
  },
  {
   "cell_type": "code",
   "execution_count": 2,
   "id": "06a48c68",
   "metadata": {},
   "outputs": [],
   "source": [
    "# From the last side\n",
    "tests.append(\n",
    "    {\n",
    "        'Input' : {\n",
    "            'Cards':[9 , 8 , 5 , 4 , 3 , 1 , 0] , \n",
    "            'Query':1\n",
    "        } , 'Output':5\n",
    "    }\n",
    ")"
   ]
  },
  {
   "cell_type": "code",
   "execution_count": 3,
   "id": "31f0398c",
   "metadata": {},
   "outputs": [],
   "source": [
    "# from the beginning side\n",
    "tests.append(\n",
    "    {\n",
    "        'Input' : {\n",
    "            'Cards':[9 , 8 , 5 , 4 , 3 , 1 , 0] , \n",
    "            'Query':5\n",
    "        } , 'Output':2\n",
    "    }\n",
    ")"
   ]
  },
  {
   "cell_type": "code",
   "execution_count": 4,
   "id": "57795c70",
   "metadata": {},
   "outputs": [],
   "source": [
    "# if list is empty \n",
    "tests.append(\n",
    "    {\n",
    "        'Input' : {\n",
    "            'Cards':[] , \n",
    "            'Query':2\n",
    "        } , 'Output':-1\n",
    "    }\n",
    ")"
   ]
  },
  {
   "cell_type": "code",
   "execution_count": 5,
   "id": "4a44f9b5",
   "metadata": {},
   "outputs": [],
   "source": [
    "# only one element in the list \n",
    "tests.append(\n",
    "    {\n",
    "        'Input' : {\n",
    "            'Cards':[2] , \n",
    "            'Query':2\n",
    "        } , 'Output':0\n",
    "    }\n",
    ")"
   ]
  },
  {
   "cell_type": "code",
   "execution_count": 6,
   "id": "5197178e",
   "metadata": {},
   "outputs": [],
   "source": [
    "# not present \n",
    "tests.append(\n",
    "    {\n",
    "        'Input' : {\n",
    "            'Cards':[9 , 8 , 5 , 3 , 1 , 0] , \n",
    "            'Query':7\n",
    "        } , 'Output':-1\n",
    "    }\n",
    ")"
   ]
  },
  {
   "cell_type": "code",
   "execution_count": 7,
   "id": "e86310c7",
   "metadata": {},
   "outputs": [],
   "source": [
    "# with multiple query present in the cards \n",
    "tests.append(\n",
    "    {\n",
    "        'Input' : {\n",
    "            'Cards':[9 , 8 , 5 , 5 , 3 , 1 , 0] ,   # should return the first occurence \n",
    "            'Query':5\n",
    "        } , 'Output':2\n",
    "    }\n",
    ")"
   ]
  },
  {
   "cell_type": "code",
   "execution_count": 8,
   "id": "525934df",
   "metadata": {},
   "outputs": [
    {
     "data": {
      "text/plain": [
       "[{'Input': {'Cards': [9, 8, 5, 4, 3, 1, 0], 'Query': 1}, 'Output': 5},\n",
       " {'Input': {'Cards': [9, 8, 5, 4, 3, 1, 0], 'Query': 5}, 'Output': 2},\n",
       " {'Input': {'Cards': [], 'Query': 2}, 'Output': -1},\n",
       " {'Input': {'Cards': [2], 'Query': 2}, 'Output': 0},\n",
       " {'Input': {'Cards': [9, 8, 5, 3, 1, 0], 'Query': 7}, 'Output': -1},\n",
       " {'Input': {'Cards': [9, 8, 5, 5, 3, 1, 0], 'Query': 5}, 'Output': 2}]"
      ]
     },
     "execution_count": 8,
     "metadata": {},
     "output_type": "execute_result"
    }
   ],
   "source": [
    "tests        # So these are the 5 test cases"
   ]
  },
  {
   "cell_type": "code",
   "execution_count": null,
   "id": "06506c77",
   "metadata": {},
   "outputs": [],
   "source": []
  },
  {
   "cell_type": "markdown",
   "id": "a975fee3",
   "metadata": {},
   "source": [
    "## Brute Force method"
   ]
  },
  {
   "cell_type": "markdown",
   "id": "5958d306",
   "metadata": {},
   "source": [
    "__Complextiy__ \n",
    "\n",
    "Time = O(n) , Space = O(1)"
   ]
  },
  {
   "cell_type": "code",
   "execution_count": 9,
   "id": "78d03a84",
   "metadata": {},
   "outputs": [],
   "source": [
    "def searching_brute_force(cards , query):\n",
    "    position = 0\n",
    "    while( position <= len(cards)-1):\n",
    "        if(cards[position]==query):\n",
    "            print('The positon of the card is : ' , position)\n",
    "            return position\n",
    "        position+=1\n",
    "        \n",
    "    print('The card is not present so' , -1)   \n",
    "    return -1 "
   ]
  },
  {
   "cell_type": "code",
   "execution_count": 10,
   "id": "665a8161",
   "metadata": {},
   "outputs": [
    {
     "name": "stdout",
     "output_type": "stream",
     "text": [
      "The positon of the card is :  5\n",
      "Test Passed\n",
      "The positon of the card is :  2\n",
      "Test Passed\n",
      "The card is not present so -1\n",
      "Test Passed\n",
      "The positon of the card is :  0\n",
      "Test Passed\n",
      "The card is not present so -1\n",
      "Test Passed\n",
      "The positon of the card is :  2\n",
      "Test Passed\n"
     ]
    }
   ],
   "source": [
    "for i in range(len(tests)):\n",
    "    result =searching_brute_force(tests[i]['Input']['Cards'] , tests[i]['Input']['Query'])\n",
    "    if result == tests[i]['Output']:\n",
    "        print ('Test Passed')\n",
    "    else : \n",
    "        print('Test Failed')"
   ]
  },
  {
   "cell_type": "markdown",
   "id": "51e91817",
   "metadata": {},
   "source": [
    "__So all the test cases are passed__"
   ]
  },
  {
   "cell_type": "code",
   "execution_count": null,
   "id": "03ea0aa6",
   "metadata": {},
   "outputs": [],
   "source": []
  },
  {
   "cell_type": "markdown",
   "id": "7e85e787",
   "metadata": {},
   "source": [
    "## Binary Search "
   ]
  },
  {
   "cell_type": "markdown",
   "id": "99bd8d0e",
   "metadata": {},
   "source": [
    "__Complextiy__ \n",
    "\n",
    "Time = O(logn) , Space = O(1)"
   ]
  },
  {
   "cell_type": "code",
   "execution_count": 11,
   "id": "045e4238",
   "metadata": {},
   "outputs": [],
   "source": [
    "def binary_search_method(cards , query , lo=None , hi=None ):\n",
    "    if hi is None:\n",
    "        hi=len(cards)-1\n",
    "    if lo is None:\n",
    "        lo=0\n",
    "    mid=(lo+hi)//2\n",
    "    \n",
    "    while (lo<=hi):\n",
    "        if cards[mid]==query:\n",
    "            print('The position is : ' , mid)\n",
    "            return mid \n",
    "        \n",
    "        if query > cards[mid]:\n",
    "            # move left\n",
    "            return binary_search_method(cards , query , 0 , mid-1)\n",
    "        else:\n",
    "            # move right \n",
    "            return binary_search_method(cards , query , mid+1 , hi)\n",
    "    print('Nothing foud so : ' , -1)\n",
    "    return -1 "
   ]
  },
  {
   "cell_type": "code",
   "execution_count": 12,
   "id": "46f2f69f",
   "metadata": {},
   "outputs": [
    {
     "name": "stdout",
     "output_type": "stream",
     "text": [
      "The position is :  5\n",
      "Test Passed\n",
      "The position is :  2\n",
      "Test Passed\n",
      "Nothing foud so :  -1\n",
      "Test Passed\n",
      "The position is :  0\n",
      "Test Passed\n",
      "Nothing foud so :  -1\n",
      "Test Passed\n",
      "The position is :  3\n",
      "Test Failed\n"
     ]
    }
   ],
   "source": [
    "for i in range(len(tests)):\n",
    "    result =binary_search_method(tests[i]['Input']['Cards'] , tests[i]['Input']['Query'])\n",
    "#     print('Test Case No : ' , i )\n",
    "    if result == tests[i]['Output']:\n",
    "        print ('Test Passed')\n",
    "    else : \n",
    "        print('Test Failed')"
   ]
  },
  {
   "cell_type": "code",
   "execution_count": 13,
   "id": "c1d497bc",
   "metadata": {},
   "outputs": [],
   "source": [
    "# so we have got the test case No - 7 Failed"
   ]
  },
  {
   "cell_type": "code",
   "execution_count": 16,
   "id": "57ef458e",
   "metadata": {},
   "outputs": [],
   "source": [
    "# Helper function to return the first occurance of query from this list \n",
    "def direction_helper(cards , query , mid):\n",
    "    if cards[mid]==query:\n",
    "        if cards[mid-1]==query:\n",
    "            return 'Left'\n",
    "        else: return 'Found'\n",
    "        \n",
    "    if cards[mid] < query :\n",
    "        return 'Left'\n",
    "    else:\n",
    "        return 'Right'\n",
    "    \n",
    "def binary_search_method(cards , query , lo=None , hi=None ):\n",
    "    if hi is None:\n",
    "        hi=len(cards)-1\n",
    "    if lo is None:\n",
    "        lo=0\n",
    "    mid=(lo+hi)//2\n",
    "    \n",
    "    while (lo<=hi):\n",
    "        direction = direction_helper(cards , query , mid)\n",
    "        if direction=='Found':\n",
    "            print('The position is : ' , mid)\n",
    "            return mid \n",
    "        \n",
    "        elif direction=='Left':\n",
    "            # move left\n",
    "            return binary_search_method(cards , query , 0 , mid-1)\n",
    "        elif direction=='Right':\n",
    "            # move right \n",
    "            return binary_search_method(cards , query , mid+1 , hi)\n",
    "    print('Nothing foud so : ' , -1)\n",
    "    return -1 "
   ]
  },
  {
   "cell_type": "code",
   "execution_count": 17,
   "id": "5fa53ce4",
   "metadata": {},
   "outputs": [
    {
     "name": "stdout",
     "output_type": "stream",
     "text": [
      "The position is :  5\n",
      "Test Passed\n",
      "The position is :  2\n",
      "Test Passed\n",
      "Nothing foud so :  -1\n",
      "Test Passed\n",
      "Nothing foud so :  -1\n",
      "Test Failed\n",
      "Nothing foud so :  -1\n",
      "Test Passed\n",
      "The position is :  2\n",
      "Test Passed\n"
     ]
    }
   ],
   "source": [
    "for i in range(len(tests)):\n",
    "    result =binary_search_method(tests[i]['Input']['Cards'] , tests[i]['Input']['Query'])\n",
    "#     print('Test Case No : ' , i )\n",
    "    if result == tests[i]['Output']:\n",
    "        print ('Test Passed')\n",
    "    else : \n",
    "        print('Test Failed')"
   ]
  },
  {
   "cell_type": "markdown",
   "id": "5390b405",
   "metadata": {},
   "source": [
    "__All the Test Cases are passed__"
   ]
  },
  {
   "cell_type": "code",
   "execution_count": null,
   "id": "4b103016",
   "metadata": {},
   "outputs": [],
   "source": []
  }
 ],
 "metadata": {
  "kernelspec": {
   "display_name": "Python 3",
   "language": "python",
   "name": "python3"
  },
  "language_info": {
   "codemirror_mode": {
    "name": "ipython",
    "version": 3
   },
   "file_extension": ".py",
   "mimetype": "text/x-python",
   "name": "python",
   "nbconvert_exporter": "python",
   "pygments_lexer": "ipython3",
   "version": "3.7.10"
  }
 },
 "nbformat": 4,
 "nbformat_minor": 5
}
