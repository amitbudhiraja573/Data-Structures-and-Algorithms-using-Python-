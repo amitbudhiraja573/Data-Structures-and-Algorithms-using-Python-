{
 "cells": [
  {
   "cell_type": "markdown",
   "id": "37b13414",
   "metadata": {},
   "source": [
    "# Hash Tables and Python Dictionaries "
   ]
  },
  {
   "cell_type": "markdown",
   "id": "dec445cb",
   "metadata": {},
   "source": [
    "- Dictionaries Internally uses the Hash Tables"
   ]
  },
  {
   "cell_type": "markdown",
   "id": "84b03f07",
   "metadata": {},
   "source": [
    "__Why not array ?__\n",
    "\n",
    "When we have to store in the form of key , value pairs then we can also use the 2d array or list\n",
    "\n",
    "But the insert/update by key will take O(n) because the list or array will be iterated and continuous memory\n",
    "\n",
    "location will be given "
   ]
  },
  {
   "cell_type": "markdown",
   "id": "e7d1388e",
   "metadata": {},
   "source": [
    "When we store the key , value pairs with the help of Hashing Table or Dictionay the key will be mappend to the \n",
    "\n",
    "int value by the help of the hashing function and then will be used to insert/update the list/array \n",
    "\n",
    "__Insert , Update , Delete will take O(1)__"
   ]
  },
  {
   "cell_type": "code",
   "execution_count": 1,
   "id": "6c3bee64",
   "metadata": {},
   "outputs": [],
   "source": [
    "class HashTables:\n",
    "    def __init__(self , max_size_of_hash_table):\n",
    "        self.data_list=[None]*max_size_of_hash_table\n",
    "    \n",
    "    \n",
    "    def return_index(self , key):\n",
    "        count=0\n",
    "        for i in key:\n",
    "            count+=ord(i)\n",
    "        return count%len(self.data_list)\n",
    "    \n",
    "            \n",
    "    def insert(self , key , value):\n",
    "        index_pos=self.return_index(key)\n",
    "        kv=self.data_list[index_pos]\n",
    "        if kv is None:\n",
    "            self.data_list[index_pos]=(key , value)\n",
    "        else:\n",
    "            input_val=str(input('Nothing to insert already exists want to update ? type Yes:   '))\n",
    "\n",
    "\n",
    "            if input_val=='Yes':\n",
    "                self.data_list[index_pos]=(key , value)\n",
    "                print('Updated Value')\n",
    "            else:\n",
    "                print('Cancelled the update')\n",
    "        \n",
    "    def delete(self , key):\n",
    "        index_pos=self.return_index(key)\n",
    "        self.data_list[index_pos]=None\n",
    "        print('Successfully deleted')\n",
    "    \n",
    "    def update(self , key , value):\n",
    "        index_pos=self.return_index(key)\n",
    "        kv=self.data_list[index_pos]\n",
    "        if kv is not None:\n",
    "            self.data_list[index_pos]=(key , value)\n",
    "        else:\n",
    "            input_val=str(input('Nothing to Update want to Insert ? type Yes:   '))\n",
    "\n",
    "            if input_val=='Yes':\n",
    "                self.insert(key , value)\n",
    "                print('Inserted sucessfully')\n",
    "            else:\n",
    "                return  \n",
    "        \n",
    "    def find(self , key):  \n",
    "        index_pos=self.return_index(key)\n",
    "        kv=self.data_list[index_pos]\n",
    "        if kv is None:\n",
    "            return None\n",
    "        else:\n",
    "            key , value = kv\n",
    "            return value\n",
    "        \n",
    "    def list_all(self):     # all the non Non None keys\n",
    "        values=[i[0] for i in self.data_list if i is not None]\n",
    "        return values"
   ]
  },
  {
   "cell_type": "code",
   "execution_count": 2,
   "id": "98022e93",
   "metadata": {},
   "outputs": [
    {
     "data": {
      "text/plain": [
       "[None, None, None, None, None, None, None, None, None, None]"
      ]
     },
     "execution_count": 2,
     "metadata": {},
     "output_type": "execute_result"
    }
   ],
   "source": [
    "list1=HashTables(10)\n",
    "list1.data_list"
   ]
  },
  {
   "cell_type": "code",
   "execution_count": 3,
   "id": "217bb64b",
   "metadata": {},
   "outputs": [],
   "source": [
    "list1.insert('amit' , 10)\n",
    "list1.insert('rahul' , 0)\n",
    "list1.insert('animesh' , 12)\n",
    "list1.insert('saini' , 40)"
   ]
  },
  {
   "cell_type": "code",
   "execution_count": 4,
   "id": "b8d1666c",
   "metadata": {},
   "outputs": [
    {
     "data": {
      "text/plain": [
       "10"
      ]
     },
     "execution_count": 4,
     "metadata": {},
     "output_type": "execute_result"
    }
   ],
   "source": [
    "list1.find('amit')"
   ]
  },
  {
   "cell_type": "code",
   "execution_count": 5,
   "id": "9b1e4079",
   "metadata": {},
   "outputs": [
    {
     "data": {
      "text/plain": [
       "[('rahul', 0),\n",
       " ('animesh', 12),\n",
       " ('saini', 40),\n",
       " None,\n",
       " None,\n",
       " None,\n",
       " None,\n",
       " ('amit', 10),\n",
       " None,\n",
       " None]"
      ]
     },
     "execution_count": 5,
     "metadata": {},
     "output_type": "execute_result"
    }
   ],
   "source": [
    "list1.data_list"
   ]
  },
  {
   "cell_type": "code",
   "execution_count": 6,
   "id": "c1cb8332",
   "metadata": {},
   "outputs": [
    {
     "name": "stdout",
     "output_type": "stream",
     "text": [
      "Nothing to insert already exists want to update ? type Yes:   no\n",
      "Cancelled the update\n"
     ]
    }
   ],
   "source": [
    "list1.insert('amit' , 100)"
   ]
  },
  {
   "cell_type": "code",
   "execution_count": 7,
   "id": "4f66fbda",
   "metadata": {},
   "outputs": [
    {
     "name": "stdout",
     "output_type": "stream",
     "text": [
      "Nothing to Update want to Insert ? type Yes:   Yes\n",
      "Inserted sucessfully\n"
     ]
    }
   ],
   "source": [
    "list1.update('raju' , 200)"
   ]
  },
  {
   "cell_type": "code",
   "execution_count": 8,
   "id": "c25383f9",
   "metadata": {},
   "outputs": [
    {
     "data": {
      "text/plain": [
       "[('rahul', 0),\n",
       " ('animesh', 12),\n",
       " ('saini', 40),\n",
       " None,\n",
       " ('raju', 200),\n",
       " None,\n",
       " None,\n",
       " ('amit', 10),\n",
       " None,\n",
       " None]"
      ]
     },
     "execution_count": 8,
     "metadata": {},
     "output_type": "execute_result"
    }
   ],
   "source": [
    "list1.data_list"
   ]
  },
  {
   "cell_type": "code",
   "execution_count": 9,
   "id": "41d4be57",
   "metadata": {},
   "outputs": [],
   "source": [
    "# list1.delete('raju')"
   ]
  },
  {
   "cell_type": "code",
   "execution_count": 10,
   "id": "d639b1f0",
   "metadata": {},
   "outputs": [
    {
     "data": {
      "text/plain": [
       "[('rahul', 0),\n",
       " ('animesh', 12),\n",
       " ('saini', 40),\n",
       " None,\n",
       " ('raju', 200),\n",
       " None,\n",
       " None,\n",
       " ('amit', 10),\n",
       " None,\n",
       " None]"
      ]
     },
     "execution_count": 10,
     "metadata": {},
     "output_type": "execute_result"
    }
   ],
   "source": [
    "list1.data_list"
   ]
  },
  {
   "cell_type": "code",
   "execution_count": 11,
   "id": "48304eb7",
   "metadata": {},
   "outputs": [
    {
     "data": {
      "text/plain": [
       "['rahul', 'animesh', 'saini', 'raju', 'amit']"
      ]
     },
     "execution_count": 11,
     "metadata": {},
     "output_type": "execute_result"
    }
   ],
   "source": [
    "list1.list_all()"
   ]
  },
  {
   "cell_type": "markdown",
   "id": "50ec3095",
   "metadata": {},
   "source": [
    "# Linear Probing Method\n",
    "\n",
    "- To overcome the problem of the same int value from the hashing function and overwridding the key , value\n",
    "\n",
    "(In the Linear Probing Method the next None index value will be retured)"
   ]
  },
  {
   "cell_type": "code",
   "execution_count": 12,
   "id": "cf4c4c68",
   "metadata": {},
   "outputs": [],
   "source": [
    "class HashTables_linearProbing:\n",
    "    def __init__(self , max_size_of_hash_table):\n",
    "        self.data_list=[None]*max_size_of_hash_table\n",
    "    \n",
    "    \n",
    "    def return_index(self , key):\n",
    "        count=0\n",
    "        for i in key:\n",
    "            count+=ord(i)\n",
    "        return count%len(self.data_list)\n",
    "    \n",
    "    def return_valid_index(self, key):\n",
    "        index_pos=self.return_index(key)\n",
    "        while(True):\n",
    "            kv = self.data_list[index_pos]\n",
    "            \n",
    "            if kv is None:\n",
    "                return index_pos\n",
    "            if kv[0]==key:\n",
    "                return index_pos\n",
    "            index_pos+=1\n",
    "            \n",
    "            if index_pos==len(self.data_list):\n",
    "                index_pos=0\n",
    "        \n",
    "        \n",
    "    def insert(self , key , value):\n",
    "        index=self.return_valid_index(key)\n",
    "        self.data_list[index]=(key , value)\n",
    "        print('Successfully inserted key and value')\n",
    "        \n",
    "    def delete(self , key):\n",
    "        index_pos=self.return_valid_index(key)\n",
    "        kv=self.data_list[index_pos]\n",
    "        if kv!=None:\n",
    "            self.data_list[index_pos]=None\n",
    "            print('Successfully deleted')\n",
    "        else:\n",
    "            return 'Enter the valid key'\n",
    "    \n",
    "    def update(self , key , value):\n",
    "        index_pos=self.return_valid_index(key)\n",
    "        kv=self.data_list[index_pos]\n",
    "        if kv is None:\n",
    "            print('NO key present want to insert ? type Yes')\n",
    "            val_input=input()\n",
    "            if val_input=='Yes':\n",
    "                self.insert(key , value)\n",
    "                return\n",
    "        else:\n",
    "            self.data_list[index_pos]=(key , value)\n",
    "            print('Successfully update the key')\n",
    "            \n",
    "        \n",
    "    def find(self , key):  \n",
    "        index_pos=self.return_valid_index(key)\n",
    "        kv=self.data_list[index_pos]\n",
    "        if kv is None:\n",
    "            return \n",
    "        else:\n",
    "            key , value = kv\n",
    "            return value\n",
    "        \n",
    "    def list_all(self):     # all the non Non None keys\n",
    "        values=[i[0] for i in self.data_list if i is not None]\n",
    "        return values"
   ]
  },
  {
   "cell_type": "code",
   "execution_count": 13,
   "id": "6f782bfe",
   "metadata": {},
   "outputs": [],
   "source": [
    "list2=HashTables_linearProbing(10)"
   ]
  },
  {
   "cell_type": "code",
   "execution_count": 14,
   "id": "e9466396",
   "metadata": {},
   "outputs": [
    {
     "data": {
      "text/plain": [
       "[None, None, None, None, None, None, None, None, None, None]"
      ]
     },
     "execution_count": 14,
     "metadata": {},
     "output_type": "execute_result"
    }
   ],
   "source": [
    "list2.data_list"
   ]
  },
  {
   "cell_type": "code",
   "execution_count": 15,
   "id": "c22333c7",
   "metadata": {},
   "outputs": [
    {
     "name": "stdout",
     "output_type": "stream",
     "text": [
      "Successfully inserted key and value\n"
     ]
    },
    {
     "data": {
      "text/plain": [
       "[None, None, None, None, None, ('listen', 100), None, None, None, None]"
      ]
     },
     "execution_count": 15,
     "metadata": {},
     "output_type": "execute_result"
    }
   ],
   "source": [
    "list2.insert('listen' , 100)\n",
    "list2.data_list"
   ]
  },
  {
   "cell_type": "code",
   "execution_count": 16,
   "id": "72f59bd7",
   "metadata": {},
   "outputs": [
    {
     "name": "stdout",
     "output_type": "stream",
     "text": [
      "Successfully inserted key and value\n",
      "Successfully inserted key and value\n"
     ]
    }
   ],
   "source": [
    "list2.insert('amit' , 200)\n",
    "list2.insert('value' , 50)"
   ]
  },
  {
   "cell_type": "code",
   "execution_count": 17,
   "id": "b1326730",
   "metadata": {},
   "outputs": [
    {
     "data": {
      "text/plain": [
       "[None,\n",
       " ('value', 50),\n",
       " None,\n",
       " None,\n",
       " None,\n",
       " ('listen', 100),\n",
       " None,\n",
       " ('amit', 200),\n",
       " None,\n",
       " None]"
      ]
     },
     "execution_count": 17,
     "metadata": {},
     "output_type": "execute_result"
    }
   ],
   "source": [
    "list2.data_list"
   ]
  },
  {
   "cell_type": "code",
   "execution_count": 18,
   "id": "6d755ea3",
   "metadata": {},
   "outputs": [
    {
     "name": "stdout",
     "output_type": "stream",
     "text": [
      "Successfully deleted\n"
     ]
    }
   ],
   "source": [
    "list2.delete('listen')"
   ]
  },
  {
   "cell_type": "code",
   "execution_count": 19,
   "id": "165df94b",
   "metadata": {},
   "outputs": [
    {
     "data": {
      "text/plain": [
       "[None, ('value', 50), None, None, None, None, None, ('amit', 200), None, None]"
      ]
     },
     "execution_count": 19,
     "metadata": {},
     "output_type": "execute_result"
    }
   ],
   "source": [
    "list2.data_list"
   ]
  },
  {
   "cell_type": "code",
   "execution_count": 20,
   "id": "10d73a63",
   "metadata": {},
   "outputs": [
    {
     "name": "stdout",
     "output_type": "stream",
     "text": [
      "Successfully update the key\n"
     ]
    },
    {
     "data": {
      "text/plain": [
       "[None,\n",
       " ('value', 50),\n",
       " None,\n",
       " None,\n",
       " None,\n",
       " None,\n",
       " None,\n",
       " ('amit', 12123),\n",
       " None,\n",
       " None]"
      ]
     },
     "execution_count": 20,
     "metadata": {},
     "output_type": "execute_result"
    }
   ],
   "source": [
    "list2.update('amit' , 12123)\n",
    "list2.data_list"
   ]
  },
  {
   "cell_type": "code",
   "execution_count": 21,
   "id": "83764636",
   "metadata": {},
   "outputs": [
    {
     "name": "stdout",
     "output_type": "stream",
     "text": [
      "None\n"
     ]
    }
   ],
   "source": [
    "print(list2.find('rohan'))"
   ]
  },
  {
   "cell_type": "code",
   "execution_count": 22,
   "id": "bd9b510d",
   "metadata": {},
   "outputs": [
    {
     "data": {
      "text/plain": [
       "12123"
      ]
     },
     "execution_count": 22,
     "metadata": {},
     "output_type": "execute_result"
    }
   ],
   "source": [
    "list2.find('amit')"
   ]
  },
  {
   "cell_type": "code",
   "execution_count": 23,
   "id": "72876b29",
   "metadata": {},
   "outputs": [
    {
     "data": {
      "text/plain": [
       "['value', 'amit']"
      ]
     },
     "execution_count": 23,
     "metadata": {},
     "output_type": "execute_result"
    }
   ],
   "source": [
    "list2.list_all()"
   ]
  },
  {
   "cell_type": "code",
   "execution_count": null,
   "id": "6f9ba778",
   "metadata": {},
   "outputs": [],
   "source": []
  },
  {
   "cell_type": "code",
   "execution_count": null,
   "id": "20332c38",
   "metadata": {},
   "outputs": [],
   "source": []
  },
  {
   "cell_type": "markdown",
   "id": "4443033e",
   "metadata": {},
   "source": [
    "## By - Python Standard Operators"
   ]
  },
  {
   "cell_type": "code",
   "execution_count": 24,
   "id": "fc48464e",
   "metadata": {},
   "outputs": [],
   "source": [
    "# __setitem__ , __getitem__ , __delitem__"
   ]
  },
  {
   "cell_type": "code",
   "execution_count": 25,
   "id": "5ea1026e",
   "metadata": {},
   "outputs": [],
   "source": [
    "class HashTables_linearProbing:\n",
    "    def __init__(self , max_size_of_hash_table):\n",
    "        self.data_list=[None]*max_size_of_hash_table\n",
    "    \n",
    "    \n",
    "    def return_index(self , key):\n",
    "        count=0\n",
    "        for i in key:\n",
    "            count+=ord(i)\n",
    "        return count%len(self.data_list)\n",
    "    \n",
    "    def return_valid_index(self, key):\n",
    "        index_pos=self.return_index(key)\n",
    "        while(True):\n",
    "            kv = self.data_list[index_pos]\n",
    "            \n",
    "            if kv is None:\n",
    "                return index_pos\n",
    "            if kv[0]==key:\n",
    "                return index_pos\n",
    "            index_pos+=1\n",
    "            \n",
    "            if index_pos==len(self.data_list):\n",
    "                index_pos=0\n",
    "        \n",
    "        \n",
    "    def __setitem__(self , key , value):\n",
    "        index=self.return_valid_index(key)\n",
    "        self.data_list[index]=(key , value)\n",
    "        print('Successfully inserted key and value')\n",
    "        \n",
    "    def __delitem__(self , key):\n",
    "        index_pos=self.return_valid_index(key)\n",
    "        kv=self.data_list[index_pos]\n",
    "        if kv!=None:\n",
    "            self.data_list[index_pos]=None\n",
    "            print('Successfully deleted')\n",
    "        else:\n",
    "            return 'Enter the valid key'\n",
    "    \n",
    "    def update(self , key , value):\n",
    "        index_pos=self.return_valid_index(key)\n",
    "        kv=self.data_list[index_pos]\n",
    "        if kv is None:\n",
    "            print('NO key present want to insert ? type Yes')\n",
    "            val_input=input()\n",
    "            if val_input=='Yes':\n",
    "                self.insert(key , value)\n",
    "                return\n",
    "        else:\n",
    "            self.data_list[index_pos]=(key , value)\n",
    "            print('Successfully update the key')\n",
    "            \n",
    "        \n",
    "    def __getitem__(self , key):  \n",
    "        index_pos=self.return_valid_index(key)\n",
    "        kv=self.data_list[index_pos]\n",
    "        if kv is None:\n",
    "            return \n",
    "        else:\n",
    "            key , value = kv\n",
    "            return value\n",
    "        \n",
    "    def list_all(self):     # all the non Non None keys\n",
    "        values=[i[0] for i in self.data_list if i is not None]\n",
    "        return values"
   ]
  },
  {
   "cell_type": "code",
   "execution_count": 26,
   "id": "b07f7e4d",
   "metadata": {},
   "outputs": [],
   "source": [
    "list3=HashTables_linearProbing(10)"
   ]
  },
  {
   "cell_type": "code",
   "execution_count": 27,
   "id": "5d663a72",
   "metadata": {},
   "outputs": [
    {
     "name": "stdout",
     "output_type": "stream",
     "text": [
      "Successfully inserted key and value\n"
     ]
    }
   ],
   "source": [
    "list3['amit']=10"
   ]
  },
  {
   "cell_type": "code",
   "execution_count": 28,
   "id": "29f1b66b",
   "metadata": {},
   "outputs": [
    {
     "name": "stdout",
     "output_type": "stream",
     "text": [
      "Successfully inserted key and value\n"
     ]
    }
   ],
   "source": [
    "list3['animesh']=20"
   ]
  },
  {
   "cell_type": "code",
   "execution_count": 29,
   "id": "ac958721",
   "metadata": {},
   "outputs": [
    {
     "data": {
      "text/plain": [
       "10"
      ]
     },
     "execution_count": 29,
     "metadata": {},
     "output_type": "execute_result"
    }
   ],
   "source": [
    "list3['amit']"
   ]
  },
  {
   "cell_type": "code",
   "execution_count": 30,
   "id": "2c736167",
   "metadata": {},
   "outputs": [
    {
     "name": "stdout",
     "output_type": "stream",
     "text": [
      "Successfully deleted\n"
     ]
    }
   ],
   "source": [
    "del list3['animesh']"
   ]
  },
  {
   "cell_type": "code",
   "execution_count": null,
   "id": "4dad1db2",
   "metadata": {},
   "outputs": [],
   "source": []
  }
 ],
 "metadata": {
  "kernelspec": {
   "display_name": "Python 3",
   "language": "python",
   "name": "python3"
  },
  "language_info": {
   "codemirror_mode": {
    "name": "ipython",
    "version": 3
   },
   "file_extension": ".py",
   "mimetype": "text/x-python",
   "name": "python",
   "nbconvert_exporter": "python",
   "pygments_lexer": "ipython3",
   "version": "3.7.10"
  }
 },
 "nbformat": 4,
 "nbformat_minor": 5
}
