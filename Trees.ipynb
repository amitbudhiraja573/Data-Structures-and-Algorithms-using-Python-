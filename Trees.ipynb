{
 "cells": [
  {
   "cell_type": "markdown",
   "id": "9241ead1",
   "metadata": {},
   "source": [
    "# Binary Trees and Binary Search Trees"
   ]
  },
  {
   "cell_type": "markdown",
   "id": "0391a583",
   "metadata": {},
   "source": [
    "__Time Complexity of Binary Search Trees -__\n",
    "\n",
    "- Searching - O(h)\n",
    "\n",
    "- Deletetion -  O(h)\n",
    "\n",
    "- Insertion - O(h)\n",
    "\n",
    "Where h is the height of the binary tree\n",
    "\n",
    "\n",
    "In case of the Balenced binary search tree\n",
    "- The complexity will be O(log n)\n",
    "\n",
    "(as the height of the tree is log n in that case)"
   ]
  },
  {
   "cell_type": "code",
   "execution_count": null,
   "id": "15d5f116",
   "metadata": {},
   "outputs": [],
   "source": []
  },
  {
   "cell_type": "markdown",
   "id": "9d510f93",
   "metadata": {},
   "source": [
    "## Binary Tree"
   ]
  },
  {
   "cell_type": "code",
   "execution_count": 1,
   "id": "75455bf6",
   "metadata": {},
   "outputs": [],
   "source": [
    "class BinaryTree:\n",
    "    def __init__(self , key):\n",
    "        self.key , self.left , self.right = key , None , None\n",
    "    \n",
    "    @staticmethod\n",
    "    def parse_tree(data):\n",
    "        if isinstance(data , tuple) and len(data)==3:   # the given tree should be in this form \n",
    "            node=BinaryTree(data[1])\n",
    "            node.left=BinaryTree.parse_tree(data[0])\n",
    "            node.right=BinaryTree.parse_tree(data[2])\n",
    "        elif data is None:\n",
    "            node=None\n",
    "        else:\n",
    "            node=BinaryTree(data)\n",
    "        return node\n",
    "    \n",
    "    def height(self):\n",
    "        if self is None:\n",
    "            return 0                 # calling the function name by classname\n",
    "        return 1 + max( BinaryTree.height(self.left) , BinaryTree.height(self.right))    \n",
    "    # max of left or right will be considered along with adding 1 for root node\n",
    "    \n",
    "    def no_of_nodes(self):\n",
    "        if self is None:\n",
    "            return 0           # left side node + right side nodes + root node\n",
    "        return 1 + BinaryTree.no_of_nodes(self.left) + BinaryTree.no_of_nodes(self.right)\n",
    "    \n",
    "    def in_order_traversal(self):\n",
    "        if self is None:\n",
    "            return []\n",
    "        return ( BinaryTree.in_order_traversal(self.left) + [self.key]  + BinaryTree.in_order_traversal(self.right) )\n",
    "    \n",
    "    def search_value(self , value):\n",
    "        if value==self.key:\n",
    "            return True\n",
    "        if value < self.key:\n",
    "            # might be in left sub tree\n",
    "            if self.left:\n",
    "                return BinaryTree.search_value(self.left , value)\n",
    "            else:\n",
    "                return False\n",
    "        else:\n",
    "            # might be in the right sub tree\n",
    "            if self.right:\n",
    "                return BinaryTree.search_value(self.right , value)\n",
    "            else:\n",
    "                return False\n",
    "            \n",
    "    def pre_order_traversal(self):\n",
    "        if self is None:\n",
    "            return []\n",
    "        return ( [self.key] + BinaryTree.pre_order_traversal(self.left) + BinaryTree.pre_order_traversal(self.right))\n",
    "    "
   ]
  },
  {
   "cell_type": "code",
   "execution_count": 2,
   "id": "9d9d0353",
   "metadata": {},
   "outputs": [],
   "source": [
    "tree_binary=BinaryTree.parse_tree(((1,3,None) , 2 , ( (None , 3 , 4) , 5 , (6 , 7 , 8))))"
   ]
  },
  {
   "cell_type": "code",
   "execution_count": 3,
   "id": "0d1f4ec0",
   "metadata": {},
   "outputs": [
    {
     "data": {
      "text/plain": [
       "2"
      ]
     },
     "execution_count": 3,
     "metadata": {},
     "output_type": "execute_result"
    }
   ],
   "source": [
    "tree_binary.key"
   ]
  },
  {
   "cell_type": "code",
   "execution_count": 4,
   "id": "d9ffec89",
   "metadata": {},
   "outputs": [
    {
     "data": {
      "text/plain": [
       "3"
      ]
     },
     "execution_count": 4,
     "metadata": {},
     "output_type": "execute_result"
    }
   ],
   "source": [
    "tree_binary.left.key"
   ]
  },
  {
   "cell_type": "code",
   "execution_count": 5,
   "id": "d5a9a1b3",
   "metadata": {},
   "outputs": [
    {
     "data": {
      "text/plain": [
       "4"
      ]
     },
     "execution_count": 5,
     "metadata": {},
     "output_type": "execute_result"
    }
   ],
   "source": [
    "tree_binary.height()  # height of the tree"
   ]
  },
  {
   "cell_type": "code",
   "execution_count": 6,
   "id": "0d12d14f",
   "metadata": {},
   "outputs": [
    {
     "data": {
      "text/plain": [
       "9"
      ]
     },
     "execution_count": 6,
     "metadata": {},
     "output_type": "execute_result"
    }
   ],
   "source": [
    "tree_binary.no_of_nodes()  # no of nodes in the tree"
   ]
  },
  {
   "cell_type": "code",
   "execution_count": 7,
   "id": "9b16baa8",
   "metadata": {},
   "outputs": [
    {
     "data": {
      "text/plain": [
       "[1, 3, 2, 3, 4, 5, 6, 7, 8]"
      ]
     },
     "execution_count": 7,
     "metadata": {},
     "output_type": "execute_result"
    }
   ],
   "source": [
    "tree_binary.in_order_traversal()"
   ]
  },
  {
   "cell_type": "code",
   "execution_count": 8,
   "id": "bbd26994",
   "metadata": {},
   "outputs": [
    {
     "data": {
      "text/plain": [
       "[2, 3, 1, 5, 3, 4, 7, 6, 8]"
      ]
     },
     "execution_count": 8,
     "metadata": {},
     "output_type": "execute_result"
    }
   ],
   "source": [
    "tree_binary.pre_order_traversal()"
   ]
  },
  {
   "cell_type": "code",
   "execution_count": 9,
   "id": "0f06186c",
   "metadata": {},
   "outputs": [
    {
     "data": {
      "text/plain": [
       "False"
      ]
     },
     "execution_count": 9,
     "metadata": {},
     "output_type": "execute_result"
    }
   ],
   "source": [
    "tree_binary.search_value(100)"
   ]
  },
  {
   "cell_type": "code",
   "execution_count": null,
   "id": "6f2541ee",
   "metadata": {},
   "outputs": [],
   "source": []
  },
  {
   "cell_type": "code",
   "execution_count": null,
   "id": "bd3b1e33",
   "metadata": {},
   "outputs": [],
   "source": []
  },
  {
   "cell_type": "markdown",
   "id": "ff451e31",
   "metadata": {},
   "source": [
    "## Binary Search Tree [BST]"
   ]
  },
  {
   "cell_type": "code",
   "execution_count": 10,
   "id": "83166917",
   "metadata": {},
   "outputs": [],
   "source": [
    "class TreeNode:\n",
    "    def __init__(self , key):\n",
    "        self.key , self.left , self.right = key , None , None\n",
    "    \n",
    "    def insert_node(self , value):\n",
    "        if value==self.key:\n",
    "            return\n",
    "        \n",
    "        if value < self.key:\n",
    "            # move left\n",
    "            if self.left:     # left is not null has some value \n",
    "                self.left.insert_node(value)\n",
    "            else:\n",
    "                self.left=TreeNode(value)\n",
    "                \n",
    "        else:\n",
    "            # move right\n",
    "            if self.right:    # right is not null has some value \n",
    "                self.right.insert_node(value)  # insert in right node by recursive method \n",
    "            else:\n",
    "                self.right=TreeNode(value)\n",
    "                \n",
    "    def in_order_traveral(self):\n",
    "        if self is None:\n",
    "            return []\n",
    "        return ( TreeNode.in_order_traveral(self.left) + [self.key] + TreeNode.in_order_traveral(self.right) )\n",
    "    \n",
    "    \n",
    "    def height(self):\n",
    "        if self is None:\n",
    "            return 0\n",
    "        return 1 + max(TreeNode.height(self.left) , TreeNode.height(self.right))\n",
    "            \n",
    "    def no_of_nodes(self):\n",
    "        if self is None:\n",
    "            return 0\n",
    "        return 1 + TreeNode.no_of_nodes(self.left) + TreeNode.no_of_nodes(self.right)\n",
    "    \n",
    "    def search_value(self , value):\n",
    "        if self.key == value :\n",
    "            return True\n",
    "        if value < self.key:\n",
    "            if self.left:\n",
    "                return self.left.search_value(value)\n",
    "            else:\n",
    "                return False\n",
    "        else:\n",
    "            if self.right:\n",
    "                return self.right.search_value(value)\n",
    "            else:\n",
    "                return False\n",
    "            \n",
    "    def find_min_value(self):  # move to left most left \n",
    "        if self.left is None:\n",
    "            return self.key\n",
    "        return self.left.find_min_value()\n",
    "    \n",
    "    def find_max_value(self):   # move to right most right \n",
    "        if self.right is None:\n",
    "            return self.key\n",
    "        return self.right.find_max_value()\n",
    "    \n",
    "    def delete_node_value(self , value):\n",
    "        if value < self.key:\n",
    "            if self.left:   # left is not None \n",
    "                self.left=self.left.delete_node_value(value)\n",
    "                \n",
    "        elif value > self.key:\n",
    "            if self.right:  # right is not None \n",
    "                self.right=self.right.delete_node_value(value)\n",
    "            else:\n",
    "                return None\n",
    "        else:\n",
    "            if self.left == None and self.right==None:\n",
    "                return None\n",
    "            \n",
    "            if self.left==None:\n",
    "                return self.right\n",
    "            \n",
    "            if self.right==None:\n",
    "                return self.right\n",
    "            \n",
    "            min_value=self.right.find_min_value()   # finding the min value and coping to the self.key\n",
    "            self.key=min_value                      # then deleting the min value from self.right\n",
    "            self.right=self.right.delete_node_value(min_value)\n",
    "            \n",
    "        return self\n",
    "            \n",
    "        \n",
    "    def sum_of_nodes(self):   # total sum of nodes \n",
    "        if self is None:\n",
    "            return 0\n",
    "        return self.key + TreeNode.sum_of_nodes(self.left) + TreeNode.sum_of_nodes(self.right)\n",
    "    \n",
    "    @ staticmethod\n",
    "    def build_tree(elements):\n",
    "        root=TreeNode(elements[0])\n",
    "        for i in range(1 , len(elements)):\n",
    "            root.insert_node(elements[i])\n",
    "        return root"
   ]
  },
  {
   "cell_type": "code",
   "execution_count": 11,
   "id": "a53e3e0a",
   "metadata": {},
   "outputs": [],
   "source": [
    "tree_bst=TreeNode.build_tree([6 , 3 , 5 , 4 , 8 , 7 , 9])  # will create the bst Binary Tree"
   ]
  },
  {
   "cell_type": "code",
   "execution_count": 12,
   "id": "b542d56b",
   "metadata": {},
   "outputs": [
    {
     "data": {
      "text/plain": [
       "3"
      ]
     },
     "execution_count": 12,
     "metadata": {},
     "output_type": "execute_result"
    }
   ],
   "source": [
    "tree_bst.left.key"
   ]
  },
  {
   "cell_type": "code",
   "execution_count": 13,
   "id": "15178788",
   "metadata": {},
   "outputs": [
    {
     "data": {
      "text/plain": [
       "[3, 4, 5, 6, 7, 8, 9]"
      ]
     },
     "execution_count": 13,
     "metadata": {},
     "output_type": "execute_result"
    }
   ],
   "source": [
    "tree_bst.in_order_traveral()"
   ]
  },
  {
   "cell_type": "code",
   "execution_count": 14,
   "id": "a2cd5962",
   "metadata": {},
   "outputs": [
    {
     "data": {
      "text/plain": [
       "4"
      ]
     },
     "execution_count": 14,
     "metadata": {},
     "output_type": "execute_result"
    }
   ],
   "source": [
    "tree_bst.height()"
   ]
  },
  {
   "cell_type": "code",
   "execution_count": 15,
   "id": "0c2574e9",
   "metadata": {},
   "outputs": [
    {
     "data": {
      "text/plain": [
       "7"
      ]
     },
     "execution_count": 15,
     "metadata": {},
     "output_type": "execute_result"
    }
   ],
   "source": [
    "tree_bst.no_of_nodes()"
   ]
  },
  {
   "cell_type": "code",
   "execution_count": 16,
   "id": "b818035e",
   "metadata": {},
   "outputs": [
    {
     "data": {
      "text/plain": [
       "False"
      ]
     },
     "execution_count": 16,
     "metadata": {},
     "output_type": "execute_result"
    }
   ],
   "source": [
    "tree_bst.search_value(10)"
   ]
  },
  {
   "cell_type": "code",
   "execution_count": 17,
   "id": "edd30c6e",
   "metadata": {},
   "outputs": [
    {
     "data": {
      "text/plain": [
       "42"
      ]
     },
     "execution_count": 17,
     "metadata": {},
     "output_type": "execute_result"
    }
   ],
   "source": [
    "tree_bst.sum_of_nodes()"
   ]
  },
  {
   "cell_type": "code",
   "execution_count": 18,
   "id": "21b6b686",
   "metadata": {},
   "outputs": [
    {
     "data": {
      "text/plain": [
       "3"
      ]
     },
     "execution_count": 18,
     "metadata": {},
     "output_type": "execute_result"
    }
   ],
   "source": [
    "tree_bst.find_min_value()     # min value in the node "
   ]
  },
  {
   "cell_type": "code",
   "execution_count": 19,
   "id": "c73beefe",
   "metadata": {},
   "outputs": [
    {
     "data": {
      "text/plain": [
       "9"
      ]
     },
     "execution_count": 19,
     "metadata": {},
     "output_type": "execute_result"
    }
   ],
   "source": [
    "tree_bst.find_max_value()    # max value in the node "
   ]
  },
  {
   "cell_type": "code",
   "execution_count": 20,
   "id": "b8c5f9a4",
   "metadata": {},
   "outputs": [
    {
     "data": {
      "text/plain": [
       "[3, 4, 5, 6, 7, 8, 9]"
      ]
     },
     "execution_count": 20,
     "metadata": {},
     "output_type": "execute_result"
    }
   ],
   "source": [
    "tree_bst.in_order_traveral()"
   ]
  },
  {
   "cell_type": "code",
   "execution_count": 21,
   "id": "5cc34941",
   "metadata": {},
   "outputs": [
    {
     "data": {
      "text/plain": [
       "<__main__.TreeNode at 0x7fcbb988ddd0>"
      ]
     },
     "execution_count": 21,
     "metadata": {},
     "output_type": "execute_result"
    }
   ],
   "source": [
    "tree_bst.delete_node_value(8)"
   ]
  },
  {
   "cell_type": "code",
   "execution_count": 22,
   "id": "ecd9e4cb",
   "metadata": {},
   "outputs": [
    {
     "data": {
      "text/plain": [
       "[3, 4, 5, 6, 7, 9]"
      ]
     },
     "execution_count": 22,
     "metadata": {},
     "output_type": "execute_result"
    }
   ],
   "source": [
    "tree_bst.in_order_traveral()"
   ]
  },
  {
   "cell_type": "code",
   "execution_count": 23,
   "id": "e07b0678",
   "metadata": {},
   "outputs": [
    {
     "data": {
      "text/plain": [
       "[4, 5, 6, 7, 9]"
      ]
     },
     "execution_count": 23,
     "metadata": {},
     "output_type": "execute_result"
    }
   ],
   "source": [
    "tree_bst.delete_node_value(3)\n",
    "tree_bst.in_order_traveral()"
   ]
  },
  {
   "cell_type": "code",
   "execution_count": null,
   "id": "ecafff75",
   "metadata": {},
   "outputs": [],
   "source": []
  },
  {
   "cell_type": "code",
   "execution_count": null,
   "id": "3a2bc47e",
   "metadata": {},
   "outputs": [],
   "source": []
  },
  {
   "cell_type": "markdown",
   "id": "04d8b89f",
   "metadata": {},
   "source": [
    "## Storing by key and value pairs "
   ]
  },
  {
   "cell_type": "code",
   "execution_count": 24,
   "id": "3adfea02",
   "metadata": {},
   "outputs": [],
   "source": [
    "class User:\n",
    "    def __init__(self , name , username , email):\n",
    "        self.name = name \n",
    "        self.username = username\n",
    "        self.email=email\n",
    "    \n",
    "    def __str__(self):\n",
    "        return 'Name : {} , Username : {} and Email : {}'.format(self.name , self.username , self.email)\n",
    "    \n",
    "    def __repr__(self):\n",
    "        return 'Name : {} , Username : {} and Email : {}'.format(self.name , self.username , self.email)"
   ]
  },
  {
   "cell_type": "code",
   "execution_count": 25,
   "id": "0ac12441",
   "metadata": {},
   "outputs": [],
   "source": [
    "jadesh = User('jadesh' , 'j_1240' , 'jadesh@gmail.com')\n",
    "biraj = User('biraj' , 'biraj_1' , 'biraj@gmail.com')\n",
    "sonaksh = User('sonaksh' , 'sonaksh_10' , 'sonaksh@gmail.com')\n",
    "aakash = User('aakash' , '_aakash_' , 'aakash@gmail.com')\n",
    "hemanth = User('hemanth' , 'hemanth_1001' , 'hemanth@gmail.com')\n",
    "siddhant = User('siddhant' , 'si_d' , 'siddhant@gmail.com')\n",
    "vishal = User('vishal' , 'vishal_100' , 'vishal@gmail.com')"
   ]
  },
  {
   "cell_type": "code",
   "execution_count": 26,
   "id": "7cd19dcc",
   "metadata": {},
   "outputs": [
    {
     "data": {
      "text/plain": [
       "(Name : jadesh , Username : j_1240 and Email : jadesh@gmail.com,\n",
       " Name : biraj , Username : biraj_1 and Email : biraj@gmail.com,\n",
       " Name : sonaksh , Username : sonaksh_10 and Email : sonaksh@gmail.com)"
      ]
     },
     "execution_count": 26,
     "metadata": {},
     "output_type": "execute_result"
    }
   ],
   "source": [
    "jadesh , biraj , sonaksh "
   ]
  },
  {
   "cell_type": "code",
   "execution_count": 27,
   "id": "884d5d32",
   "metadata": {},
   "outputs": [],
   "source": [
    "class BST:\n",
    "    def __init__(self , key , value=None):\n",
    "        self.key , self.value , self.right , self.left , self.parent = key , value , None , None , None \n",
    "        \n",
    "    def insert_values(self , key , value):      \n",
    "        if str(self.key) == str(key) :\n",
    "            return \n",
    "        \n",
    "        if(str(key) < str(self.key)):\n",
    "            # moving to left \n",
    "            if self.left:\n",
    "                self.left.insert_values(key , value)\n",
    "            else:\n",
    "                self.left=BST(key , value)\n",
    "                self.left.parent=self\n",
    "        else:\n",
    "            # moving to right \n",
    "            if self.right:\n",
    "                self.right.insert_values( key , value)\n",
    "            else:\n",
    "                self.right=BST(key , value)\n",
    "                self.right.parent=self\n",
    "    \n",
    "    def find_value(self , key):     # checking value by username and return that particular node \n",
    "        if self.key == key:\n",
    "            return self\n",
    "        \n",
    "        if key < str(self.key):\n",
    "            # move left\n",
    "            if self.left:\n",
    "                return BST.find_value(self.left , key)\n",
    "            else:\n",
    "                return None\n",
    "        else:\n",
    "            if self.right:\n",
    "                return BST.find_value(self.right , key)\n",
    "            else:\n",
    "                return None\n",
    "    \n",
    "    def update_values(self , key , new_value):  # we can change the details by username\n",
    "        target = BST.find_value(self , key)\n",
    "        if target is not None:\n",
    "            target.value = new_value\n",
    "   \n",
    "    def find_min_username_value(self):\n",
    "        if self.left is None:\n",
    "            return self.key\n",
    "        return BST.find_min_username_value(self.left)\n",
    "    \n",
    "    def find_max_username_value(self):\n",
    "        if self.right is None :\n",
    "            return self.key\n",
    "        return BST.find_max_username_value(self.right)\n",
    "    \n",
    "    def height(self):\n",
    "        if self is None:\n",
    "            return 0\n",
    "        return 1 + max(BST.height(self.left) , BST.height(self.right))\n",
    "    \n",
    "    def total_no_of_nodes(self):\n",
    "        if self is None:\n",
    "            return 0\n",
    "        return 1 + BST.height(self.left) + BST.height(self.right)\n",
    "    \n",
    "    def delete_node(self , value):\n",
    "        if value < self.key :\n",
    "            # move left \n",
    "            self.left=self.left.delete_node(value)\n",
    "        elif(value > self.key):\n",
    "            # move right\n",
    "            self.right=self.right.delete_node(value)\n",
    "        else:\n",
    "            if self.left == None and self.right == None:\n",
    "                return None\n",
    "            elif(self.left==None):\n",
    "                return self.right\n",
    "            elif(self.right==None):\n",
    "                return self.right\n",
    "            \n",
    "            min_value=self.right.find_min_username_value()  # finding the min in the right sub tree\n",
    "            self.key=min_value\n",
    "            self.right=self.right.delete_node(min_value)\n",
    "        return self\n",
    "    \n",
    "    def is_balanced_or_not(self):  # will return is_balanced and height of tree\n",
    "        if self is None:\n",
    "            return True , 0\n",
    "        \n",
    "        balanced_l , height_l = BST.is_balanced_or_not(self.left)\n",
    "        balanced_r , height_r = BST.is_balanced_or_not(self.right)\n",
    "        \n",
    "        balanced = balanced_l and balanced_r and abs(height_l - height_r ) <=1\n",
    "        height = 1 + max(height_l , height_r)\n",
    "        \n",
    "        return balanced , height\n",
    "        \n",
    "    def in_order_traversal(self):\n",
    "        if self is None :\n",
    "            return []\n",
    "        return (BST.in_order_traversal(self.left) + [self.key] + BST.in_order_traversal(self.right))\n",
    "    \n",
    "    @staticmethod\n",
    "    def create_tree(elements):   # creating binary tree\n",
    "        root=BST(elements[0].username , elements[0])\n",
    "        for i in range(1 , len(elements)):\n",
    "            root.insert_values(elements[i].username , elements[i])\n",
    "        return root"
   ]
  },
  {
   "cell_type": "code",
   "execution_count": 28,
   "id": "4dfb3877",
   "metadata": {},
   "outputs": [],
   "source": [
    "tree1=BST.create_tree([jadesh , biraj , sonaksh , aakash , hemanth , siddhant , vishal])"
   ]
  },
  {
   "cell_type": "code",
   "execution_count": 29,
   "id": "9750ce67",
   "metadata": {},
   "outputs": [
    {
     "data": {
      "text/plain": [
       "'j_1240'"
      ]
     },
     "execution_count": 29,
     "metadata": {},
     "output_type": "execute_result"
    }
   ],
   "source": [
    "tree1.left.parent.key"
   ]
  },
  {
   "cell_type": "code",
   "execution_count": 30,
   "id": "bd33f81a",
   "metadata": {},
   "outputs": [
    {
     "data": {
      "text/plain": [
       "'biraj_1'"
      ]
     },
     "execution_count": 30,
     "metadata": {},
     "output_type": "execute_result"
    }
   ],
   "source": [
    "tree1.left.right.parent.key"
   ]
  },
  {
   "cell_type": "code",
   "execution_count": 31,
   "id": "40ad9374",
   "metadata": {},
   "outputs": [
    {
     "data": {
      "text/plain": [
       "['_aakash_',\n",
       " 'biraj_1',\n",
       " 'hemanth_1001',\n",
       " 'j_1240',\n",
       " 'si_d',\n",
       " 'sonaksh_10',\n",
       " 'vishal_100']"
      ]
     },
     "execution_count": 31,
     "metadata": {},
     "output_type": "execute_result"
    }
   ],
   "source": [
    "tree1.in_order_traversal()"
   ]
  },
  {
   "cell_type": "code",
   "execution_count": 32,
   "id": "7fee3a62",
   "metadata": {},
   "outputs": [
    {
     "data": {
      "text/plain": [
       "Name : hemanth , Username : hemanth_1001 and Email : hemanth@gmail.com"
      ]
     },
     "execution_count": 32,
     "metadata": {},
     "output_type": "execute_result"
    }
   ],
   "source": [
    "tree1.find_value('hemanth_1001').value"
   ]
  },
  {
   "cell_type": "code",
   "execution_count": 33,
   "id": "4dc3cce1",
   "metadata": {},
   "outputs": [],
   "source": [
    "tree1.update_values('hemanth_1001' , User('Hemanth Kumar' ,'hemanth_1001' , 'new_gmail.com') )"
   ]
  },
  {
   "cell_type": "code",
   "execution_count": 34,
   "id": "437ac40d",
   "metadata": {},
   "outputs": [
    {
     "data": {
      "text/plain": [
       "Name : Hemanth Kumar , Username : hemanth_1001 and Email : new_gmail.com"
      ]
     },
     "execution_count": 34,
     "metadata": {},
     "output_type": "execute_result"
    }
   ],
   "source": [
    "tree1.find_value('hemanth_1001').value  # deleted node "
   ]
  },
  {
   "cell_type": "code",
   "execution_count": 35,
   "id": "885e1547",
   "metadata": {},
   "outputs": [
    {
     "data": {
      "text/plain": [
       "'_aakash_'"
      ]
     },
     "execution_count": 35,
     "metadata": {},
     "output_type": "execute_result"
    }
   ],
   "source": [
    "tree1.find_min_username_value()"
   ]
  },
  {
   "cell_type": "code",
   "execution_count": 36,
   "id": "45b5c237",
   "metadata": {},
   "outputs": [
    {
     "data": {
      "text/plain": [
       "'vishal_100'"
      ]
     },
     "execution_count": 36,
     "metadata": {},
     "output_type": "execute_result"
    }
   ],
   "source": [
    "tree1.find_max_username_value()"
   ]
  },
  {
   "cell_type": "code",
   "execution_count": 37,
   "id": "954eb0df",
   "metadata": {},
   "outputs": [
    {
     "data": {
      "text/plain": [
       "3"
      ]
     },
     "execution_count": 37,
     "metadata": {},
     "output_type": "execute_result"
    }
   ],
   "source": [
    "tree1.height()  # height of the tree"
   ]
  },
  {
   "cell_type": "code",
   "execution_count": 38,
   "id": "4a0cb0ce",
   "metadata": {},
   "outputs": [
    {
     "data": {
      "text/plain": [
       "(True, 3)"
      ]
     },
     "execution_count": 38,
     "metadata": {},
     "output_type": "execute_result"
    }
   ],
   "source": [
    "tree1.is_balanced_or_not()  "
   ]
  },
  {
   "cell_type": "code",
   "execution_count": 39,
   "id": "a4a6885b",
   "metadata": {},
   "outputs": [
    {
     "data": {
      "text/plain": [
       "['_aakash_',\n",
       " 'biraj_1',\n",
       " 'hemanth_1001',\n",
       " 'j_1240',\n",
       " 'si_d',\n",
       " 'sonaksh_10',\n",
       " 'vishal_100']"
      ]
     },
     "execution_count": 39,
     "metadata": {},
     "output_type": "execute_result"
    }
   ],
   "source": [
    "tree1.in_order_traversal()"
   ]
  },
  {
   "cell_type": "code",
   "execution_count": 40,
   "id": "197f8bbb",
   "metadata": {},
   "outputs": [
    {
     "data": {
      "text/plain": [
       "<__main__.BST at 0x7fcb8816b710>"
      ]
     },
     "execution_count": 40,
     "metadata": {},
     "output_type": "execute_result"
    }
   ],
   "source": [
    "tree1.delete_node('hemanth_1001')"
   ]
  },
  {
   "cell_type": "code",
   "execution_count": 41,
   "id": "805e1bab",
   "metadata": {},
   "outputs": [
    {
     "data": {
      "text/plain": [
       "['_aakash_', 'biraj_1', 'j_1240', 'si_d', 'sonaksh_10', 'vishal_100']"
      ]
     },
     "execution_count": 41,
     "metadata": {},
     "output_type": "execute_result"
    }
   ],
   "source": [
    "tree1.in_order_traversal()"
   ]
  },
  {
   "cell_type": "code",
   "execution_count": null,
   "id": "54c72c53",
   "metadata": {},
   "outputs": [],
   "source": []
  },
  {
   "cell_type": "markdown",
   "id": "010444c2",
   "metadata": {},
   "source": [
    "## Function to Create the Balenced Tree form the sorted list/array"
   ]
  },
  {
   "cell_type": "markdown",
   "id": "6166f06b",
   "metadata": {},
   "source": [
    "Complexity - \n",
    "\n",
    "Insert and Balancing the tree\n",
    "\n",
    "O(n) + O(logn) [from binary search method] \n",
    "\n",
    "__So the final complexity will be O(n)__"
   ]
  },
  {
   "cell_type": "code",
   "execution_count": 45,
   "id": "62b2bb2c",
   "metadata": {},
   "outputs": [],
   "source": [
    "def create_tree_balanced(elements , lo=0 , hi=None , parent=None):     # None if parameters not given \n",
    "    if hi is None:\n",
    "        hi=len(elements)-1\n",
    "    if lo>hi:\n",
    "        return None \n",
    "    \n",
    "    mid=(lo+hi)//2\n",
    "    key , value = elements[mid].username , elements[mid]\n",
    "    root=BST(key , value)\n",
    "    root.parent = parent \n",
    "    root.left = create_tree_balanced(elements , lo , mid-1 , root)  \n",
    "    root.right = create_tree_balanced(elements , mid+1 , hi , root)\n",
    "    \n",
    "    return root"
   ]
  },
  {
   "cell_type": "code",
   "execution_count": 46,
   "id": "3d2deecc",
   "metadata": {},
   "outputs": [],
   "source": [
    "tree2=create_tree_balanced([aakash, biraj, jadesh, siddhant, sonaksh, vishal])  \n",
    "# in_order_traveral will give the sorted array then put inot the function in create_tree_balanced"
   ]
  },
  {
   "cell_type": "code",
   "execution_count": 56,
   "id": "6d0c04db",
   "metadata": {},
   "outputs": [
    {
     "data": {
      "text/plain": [
       "'vishal_100'"
      ]
     },
     "execution_count": 56,
     "metadata": {},
     "output_type": "execute_result"
    }
   ],
   "source": [
    "tree2.right.right.key"
   ]
  },
  {
   "cell_type": "code",
   "execution_count": 59,
   "id": "4375968d",
   "metadata": {},
   "outputs": [
    {
     "data": {
      "text/plain": [
       "['_aakash_', 'biraj_1', 'j_1240', 'si_d', 'sonaksh_10', 'vishal_100']"
      ]
     },
     "execution_count": 59,
     "metadata": {},
     "output_type": "execute_result"
    }
   ],
   "source": [
    "tree2.in_order_traversal()  # balanced tree"
   ]
  },
  {
   "cell_type": "markdown",
   "id": "998eaf50",
   "metadata": {},
   "source": [
    "__In this way we can Balance the non-Balanced tree__"
   ]
  },
  {
   "cell_type": "code",
   "execution_count": null,
   "id": "24172624",
   "metadata": {},
   "outputs": [],
   "source": []
  }
 ],
 "metadata": {
  "kernelspec": {
   "display_name": "Python 3",
   "language": "python",
   "name": "python3"
  },
  "language_info": {
   "codemirror_mode": {
    "name": "ipython",
    "version": 3
   },
   "file_extension": ".py",
   "mimetype": "text/x-python",
   "name": "python",
   "nbconvert_exporter": "python",
   "pygments_lexer": "ipython3",
   "version": "3.7.10"
  }
 },
 "nbformat": 4,
 "nbformat_minor": 5
}
