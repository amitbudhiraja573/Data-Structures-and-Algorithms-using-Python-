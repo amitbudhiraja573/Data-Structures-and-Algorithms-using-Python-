{
 "cells": [
  {
   "cell_type": "markdown",
   "id": "d3384f56",
   "metadata": {},
   "source": [
    "# Notbook Contents\n",
    "- Merge Sort\n",
    "- Quick Sort"
   ]
  },
  {
   "cell_type": "markdown",
   "id": "2e3598c1",
   "metadata": {},
   "source": [
    "__Creating different Test Cases for Sorting__"
   ]
  },
  {
   "cell_type": "code",
   "execution_count": 1,
   "id": "17104ce6",
   "metadata": {},
   "outputs": [],
   "source": [
    "tests=[]"
   ]
  },
  {
   "cell_type": "code",
   "execution_count": 2,
   "id": "9a34bfd3",
   "metadata": {},
   "outputs": [],
   "source": [
    "# Random values\n",
    "tests.append({'input':\n",
    "              {'nums':[8,4,0,2,1]}\n",
    "              , 'Output':[0 , 1 , 2 , 4 , 8]})"
   ]
  },
  {
   "cell_type": "code",
   "execution_count": 3,
   "id": "9f285ffb",
   "metadata": {},
   "outputs": [],
   "source": [
    "# only 1 element in the list\n",
    "tests.append({'input':\n",
    "              {'nums':[1]}\n",
    "              , 'Output':[1]})"
   ]
  },
  {
   "cell_type": "code",
   "execution_count": 4,
   "id": "fd7007e3",
   "metadata": {},
   "outputs": [],
   "source": [
    "# already sorted\n",
    "tests.append({'input':\n",
    "              {'nums':[1,2,3,4,5]}\n",
    "              , 'Output':[1,2,3,4,5]})"
   ]
  },
  {
   "cell_type": "code",
   "execution_count": 5,
   "id": "84dde408",
   "metadata": {},
   "outputs": [],
   "source": [
    "# empty list\n",
    "tests.append({'input':\n",
    "              {'nums':[]}\n",
    "              , 'Output':[]})"
   ]
  },
  {
   "cell_type": "code",
   "execution_count": 6,
   "id": "fdb64b53",
   "metadata": {},
   "outputs": [],
   "source": [
    "# already sorted in descending order\n",
    "tests.append({'input':\n",
    "              {'nums':[8,4,3,2,1,0]}\n",
    "              , 'Output':[0 , 1 , 2 , 3, 4 , 8]})"
   ]
  },
  {
   "cell_type": "code",
   "execution_count": 7,
   "id": "69f16c76",
   "metadata": {},
   "outputs": [],
   "source": [
    "# repeated elements\n",
    "tests.append({'input':\n",
    "              {'nums':[8 , 4 , 3 , 2 , 1 , 8 , 4 ,0]}\n",
    "              , 'Output':[0 , 1 , 2 , 3, 4 , 4 , 8 , 8]})"
   ]
  },
  {
   "cell_type": "code",
   "execution_count": 8,
   "id": "30f1f076",
   "metadata": {},
   "outputs": [
    {
     "data": {
      "text/plain": [
       "6"
      ]
     },
     "execution_count": 8,
     "metadata": {},
     "output_type": "execute_result"
    }
   ],
   "source": [
    "len(tests)  # these are the differnt test cases"
   ]
  },
  {
   "cell_type": "code",
   "execution_count": null,
   "id": "9742e049",
   "metadata": {},
   "outputs": [],
   "source": []
  },
  {
   "cell_type": "markdown",
   "id": "667dee19",
   "metadata": {},
   "source": [
    "# Merge Sort\n",
    "- Uses Concept of Divide and Conquer"
   ]
  },
  {
   "cell_type": "markdown",
   "id": "38fba43a",
   "metadata": {},
   "source": [
    "__Complexity :__ \n",
    " \n",
    "__Time - log(nlogn)__\n",
    "\n",
    "The merge function will take O(n)\n",
    "and it will be done O(logn) times which is height of the tree\n",
    "\n",
    "__Space - O(1)__\n",
    "No additional Space required for the sorting purpose "
   ]
  },
  {
   "cell_type": "code",
   "execution_count": 9,
   "id": "8f5a65ed",
   "metadata": {},
   "outputs": [],
   "source": [
    "# To cover the edge cases if the list is empty or has only one element\n",
    "\n",
    "def all_cases_covered_Sorting(arr):\n",
    "    if len(arr)<=1:\n",
    "        return arr\n",
    "    else:\n",
    "        return merge_sort(arr)\n",
    "\n",
    "    \n",
    "    \n",
    "def merge_sort(arr):\n",
    "        if len(arr) <= 1:\n",
    "            return\n",
    "\n",
    "        mid = len(arr)//2     # mid value \n",
    "\n",
    "        left = arr[:mid]\n",
    "        right = arr[mid:]\n",
    "    \n",
    "        merge_sort(left)      # left sorting\n",
    "        merge_sort(right)     # right sorting \n",
    "\n",
    "        merge(arr , left, right)\n",
    "    \n",
    "        return arr\n",
    "    \n",
    "    \n",
    "    \n",
    "# Will merge 2 lists\n",
    "def merge(arr , lis1, lis2):  \n",
    "    i , j , k = 0 , 0 , 0 \n",
    "    #  k is the reference for the arr\n",
    "\n",
    "    while(i < len(lis1) and j < len(lis2)):\n",
    "        if (lis1[i] < lis2[j]):\n",
    "            arr[k]=lis1[i]\n",
    "            i+=1\n",
    "        else:\n",
    "            arr[k]=lis2[j]\n",
    "            j+=1\n",
    "        k+=1\n",
    "    \n",
    "    while(i < len(lis1)):\n",
    "        arr[k]=lis1[i]\n",
    "        i+=1\n",
    "        k+=1\n",
    "        \n",
    "    while(j < len(lis2)):\n",
    "        arr[k]=lis2[j]\n",
    "        j+=1\n",
    "        k+=1"
   ]
  },
  {
   "cell_type": "code",
   "execution_count": 10,
   "id": "9b460510",
   "metadata": {},
   "outputs": [
    {
     "data": {
      "text/plain": [
       "[1, 2, 3, 7, 8, 9]"
      ]
     },
     "execution_count": 10,
     "metadata": {},
     "output_type": "execute_result"
    }
   ],
   "source": [
    "arr=[1,7,3,8,9,2]\n",
    "merge_sort(arr)\n",
    "arr"
   ]
  },
  {
   "cell_type": "code",
   "execution_count": 11,
   "id": "0da71ad4",
   "metadata": {},
   "outputs": [
    {
     "name": "stdout",
     "output_type": "stream",
     "text": [
      "Test NO : 0\n",
      "Matched\n",
      "Test NO : 1\n",
      "Matched\n",
      "Test NO : 2\n",
      "Matched\n",
      "Test NO : 3\n",
      "Matched\n",
      "Test NO : 4\n",
      "Matched\n",
      "Test NO : 5\n",
      "Matched\n"
     ]
    }
   ],
   "source": [
    "# Now cheking the merge sort with the test cases\n",
    "for i in range(len(tests)):\n",
    "    value = all_cases_covered_Sorting(tests[i]['input']['nums'])\n",
    "    print('Test NO :',i)\n",
    "    if value == tests[i]['Output']:\n",
    "        print('Matched')\n",
    "    else:\n",
    "        print('---**--Un-Matched--*---')"
   ]
  },
  {
   "cell_type": "code",
   "execution_count": null,
   "id": "b0be30a8",
   "metadata": {},
   "outputs": [],
   "source": []
  },
  {
   "cell_type": "code",
   "execution_count": null,
   "id": "199bc08c",
   "metadata": {},
   "outputs": [],
   "source": []
  },
  {
   "cell_type": "markdown",
   "id": "c40c7fdb",
   "metadata": {},
   "source": [
    "## Quick Sort"
   ]
  },
  {
   "cell_type": "markdown",
   "id": "3121a1fd",
   "metadata": {},
   "source": [
    "__Uses Divide and Conquer approch__\n",
    "\n",
    "\n",
    "__Complexity of Quick Sort:__\n",
    "\n",
    "Time - O(nlogn)\n",
    "\n",
    "Space - O(1)\n",
    "\n",
    "__Method Used:__\n",
    "- Hoare Partioning\n",
    "\n",
    "__Variables Used:__\n",
    "\n",
    "1) pivot - Is the start element which is to be compared and put in position \n",
    "\n",
    "2) start - Index of element > pivot \n",
    "\n",
    "3) end - Index of element < pivot \n",
    "\n",
    "__Note - If the list is already sorted then it will take O(n^2)__"
   ]
  },
  {
   "cell_type": "code",
   "execution_count": 12,
   "id": "f1f5626d",
   "metadata": {},
   "outputs": [],
   "source": [
    "def swap(elements , a , b): \n",
    "    if(a!=b):\n",
    "        elements[a] , elements[b] = elements[b] , elements[a]\n",
    "    \n",
    "def partioning(elements , start , end):\n",
    "    pivot_index = start\n",
    "    pivot = elements[start]\n",
    "    \n",
    "    while(start < end):\n",
    "        while(start < len(elements) and elements[start] <= pivot):\n",
    "            start+=1\n",
    "\n",
    "        while(elements[end]>pivot):\n",
    "            end-=1\n",
    "            \n",
    "        if start < end:\n",
    "            swap(elements , start , end)     # swapping the start and the end \n",
    "        \n",
    "    swap(elements , pivot_index , end)       # swapping of pivot value and end value\n",
    "    \n",
    "    return end\n",
    "\n",
    "\n",
    "def quick_sort(elements , start , end):\n",
    "    if start<=end:\n",
    "        mid =partioning(elements , start , end)\n",
    "        quick_sort(elements , start , mid-1)  # for left list\n",
    "        quick_sort(elements , mid+1 , end)    # for right list\n",
    "    return elements"
   ]
  },
  {
   "cell_type": "code",
   "execution_count": 13,
   "id": "bc5c2f09",
   "metadata": {},
   "outputs": [
    {
     "data": {
      "text/plain": [
       "[2, 7, 9, 11, 15, 28, 29]"
      ]
     },
     "execution_count": 13,
     "metadata": {},
     "output_type": "execute_result"
    }
   ],
   "source": [
    "elements=[11 , 9 , 2 , 7 , 29 , 15 , 28]\n",
    "elements = quick_sort(elements , 0 , len(elements)-1)\n",
    "elements"
   ]
  },
  {
   "cell_type": "code",
   "execution_count": 14,
   "id": "c3d6c564",
   "metadata": {},
   "outputs": [
    {
     "name": "stdout",
     "output_type": "stream",
     "text": [
      "Test NO : 0\n",
      "Matched\n",
      "Test NO : 1\n",
      "Matched\n",
      "Test NO : 2\n",
      "Matched\n",
      "Test NO : 3\n",
      "Matched\n",
      "Test NO : 4\n",
      "Matched\n",
      "Test NO : 5\n",
      "Matched\n"
     ]
    }
   ],
   "source": [
    "# Testing the model on test cases\n",
    "for i in range(len(tests)):\n",
    "    value = quick_sort(tests[i]['input']['nums'] , 0 , len(tests[i]['input']['nums'])-1)\n",
    "    print('Test NO :',i)\n",
    "    if value == tests[i]['Output']:\n",
    "        print('Matched')\n",
    "    else:\n",
    "        print('---**--Un-Matched--*---')"
   ]
  },
  {
   "cell_type": "code",
   "execution_count": null,
   "id": "37f763d7",
   "metadata": {},
   "outputs": [],
   "source": []
  },
  {
   "cell_type": "code",
   "execution_count": null,
   "id": "c984bbc5",
   "metadata": {},
   "outputs": [],
   "source": []
  }
 ],
 "metadata": {
  "kernelspec": {
   "display_name": "Python 3",
   "language": "python",
   "name": "python3"
  },
  "language_info": {
   "codemirror_mode": {
    "name": "ipython",
    "version": 3
   },
   "file_extension": ".py",
   "mimetype": "text/x-python",
   "name": "python",
   "nbconvert_exporter": "python",
   "pygments_lexer": "ipython3",
   "version": "3.7.10"
  }
 },
 "nbformat": 4,
 "nbformat_minor": 5
}
