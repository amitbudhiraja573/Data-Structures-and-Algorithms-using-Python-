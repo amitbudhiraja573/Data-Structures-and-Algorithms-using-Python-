{
 "cells": [
  {
   "cell_type": "markdown",
   "id": "92e3e282",
   "metadata": {},
   "source": [
    "__What are the issues with array ?__\n",
    "\n",
    "\n",
    "- So the insertion and deletetion becomes difficult as when we insert the elements in the array then the overhead will be there (Copying the elements to the next Contiguous locations)\n",
    "\n",
    "\n",
    "- In the python we generally use the dynamic array/list so when we have insert the elements and the list is full then the new list is created in different memory location with more size and elements are then copied from the previous memory location to the new created memory location \n",
    "\n"
   ]
  },
  {
   "cell_type": "markdown",
   "id": "6d91d586",
   "metadata": {},
   "source": [
    "__Complexity (LinkedList)__\n",
    "\n",
    "__Time -__ Inserting and deletion will take O(n)  [with no overhead]\n",
    "(Only their will be change in refernce)\n",
    "\n",
    "__Space -__ Insertion and Deletion both has O(1) Complexity "
   ]
  },
  {
   "cell_type": "markdown",
   "id": "e077c6f8",
   "metadata": {},
   "source": [
    "# Single Linkedlist"
   ]
  },
  {
   "cell_type": "code",
   "execution_count": 1,
   "id": "e8a2f2af",
   "metadata": {},
   "outputs": [],
   "source": [
    "# Node class will contain the Data and Next reference of the node\n",
    "class Node:\n",
    "    def __init__(self , data):\n",
    "        self.data=data\n",
    "        self.next=None\n",
    "        \n",
    "        \n",
    "# Linkedlist class will create the list and has Head refernce of the list created        \n",
    "class Linkedlist:\n",
    "    def __init__(self):\n",
    "        self.head=None\n",
    "    \n",
    "    def insertAtStart(self , data):\n",
    "        node=Node(data)\n",
    "        node.next=self.head\n",
    "        self.head=node\n",
    "    \n",
    "    def insertAtEnd(self , data):\n",
    "        if self.head is None:\n",
    "            node=Node(data)\n",
    "            self.head=node\n",
    "            return\n",
    "        itr=self.head\n",
    "        while(itr.next!=None):\n",
    "            itr=itr.next\n",
    "        node=Node(data)\n",
    "        itr.next=node\n",
    "        \n",
    "    \n",
    "    def insertAtAny(self , data , position):\n",
    "        if position==0:\n",
    "            self.insertAtStart(data)\n",
    "            return \n",
    "        elif(position==self.no_of_elements_in_list()):\n",
    "            self.insertAtEnd(data)\n",
    "            return \n",
    "        else:\n",
    "            itr=self.head\n",
    "            count=0\n",
    "            while(itr):\n",
    "                if count==position-1:\n",
    "                    node=Node(data)\n",
    "                    node.next=itr.next\n",
    "                    itr.next=node\n",
    "                    break\n",
    "                \n",
    "                itr=itr.next\n",
    "                count+=1\n",
    "                \n",
    "    def remove_at_any(self , position):   # by postition \n",
    "        if position==0:\n",
    "            # remove from first \n",
    "            self.head=self.head.next\n",
    "        elif(position>0 and position<=self.no_of_elements_in_list()-1):  # if value not at start \n",
    "            itr=self.head\n",
    "            count=0\n",
    "            while(itr):\n",
    "                if count==position-1:\n",
    "                    itr.next=itr.next.next\n",
    "                    return\n",
    "                \n",
    "                itr=itr.next\n",
    "                count+=1\n",
    "                \n",
    "        else:\n",
    "            raise Exception('Input the valid position value')\n",
    "        \n",
    "    def remove_by_value(self , value):    # by value \n",
    "        \n",
    "        itr=self.head\n",
    "        while(itr):\n",
    "            if(value==itr.next.data):\n",
    "                itr.next=itr.next.next\n",
    "                return\n",
    "            itr=itr.next\n",
    "        \n",
    "        \n",
    "    def no_of_elements_in_list(self):   # will return the length of the LinkedList\n",
    "        if self.head==None:\n",
    "            return 0\n",
    "        \n",
    "        count=0\n",
    "        itr=self.head\n",
    "        while(itr):\n",
    "            count+=1\n",
    "            itr=itr.next\n",
    "        return count\n",
    "    \n",
    "    def print_list(self):\n",
    "        if self.head==None:\n",
    "            raise Exception('List is empty')\n",
    "        itr=self.head\n",
    "        llstr=''\n",
    "        while(itr):\n",
    "            llstr+=str(itr.data)+'-->'\n",
    "            itr = itr.next\n",
    "        return llstr"
   ]
  },
  {
   "cell_type": "code",
   "execution_count": 2,
   "id": "95182980",
   "metadata": {},
   "outputs": [
    {
     "data": {
      "text/plain": [
       "'5-->'"
      ]
     },
     "execution_count": 2,
     "metadata": {},
     "output_type": "execute_result"
    }
   ],
   "source": [
    "list1=Linkedlist()\n",
    "list1.insertAtStart(5)\n",
    "list1.print_list()"
   ]
  },
  {
   "cell_type": "code",
   "execution_count": 3,
   "id": "5aa3d36f",
   "metadata": {},
   "outputs": [
    {
     "data": {
      "text/plain": [
       "'9-->3-->5-->'"
      ]
     },
     "execution_count": 3,
     "metadata": {},
     "output_type": "execute_result"
    }
   ],
   "source": [
    "list1.insertAtStart(3)\n",
    "list1.insertAtStart(9)\n",
    "list1.print_list()"
   ]
  },
  {
   "cell_type": "code",
   "execution_count": 4,
   "id": "0d5e588b",
   "metadata": {},
   "outputs": [
    {
     "data": {
      "text/plain": [
       "'9-->3-->5-->100-->'"
      ]
     },
     "execution_count": 4,
     "metadata": {},
     "output_type": "execute_result"
    }
   ],
   "source": [
    "list1.insertAtEnd(100)\n",
    "list1.print_list()"
   ]
  },
  {
   "cell_type": "code",
   "execution_count": 5,
   "id": "3c12407f",
   "metadata": {},
   "outputs": [
    {
     "data": {
      "text/plain": [
       "'9-->3-->5-->100-->50-->'"
      ]
     },
     "execution_count": 5,
     "metadata": {},
     "output_type": "execute_result"
    }
   ],
   "source": [
    "list1.insertAtEnd(50)\n",
    "list1.print_list()"
   ]
  },
  {
   "cell_type": "code",
   "execution_count": 6,
   "id": "3b5e755e",
   "metadata": {},
   "outputs": [
    {
     "data": {
      "text/plain": [
       "5"
      ]
     },
     "execution_count": 6,
     "metadata": {},
     "output_type": "execute_result"
    }
   ],
   "source": [
    "list1.no_of_elements_in_list()"
   ]
  },
  {
   "cell_type": "code",
   "execution_count": 7,
   "id": "a09afb61",
   "metadata": {},
   "outputs": [
    {
     "data": {
      "text/plain": [
       "'9-->3-->5-->100-->1000-->50-->'"
      ]
     },
     "execution_count": 7,
     "metadata": {},
     "output_type": "execute_result"
    }
   ],
   "source": [
    "list1.insertAtAny(1000 , 4)\n",
    "list1.print_list()"
   ]
  },
  {
   "cell_type": "code",
   "execution_count": 8,
   "id": "dcf1eeee",
   "metadata": {},
   "outputs": [
    {
     "data": {
      "text/plain": [
       "'9-->3-->5-->100-->1000-->'"
      ]
     },
     "execution_count": 8,
     "metadata": {},
     "output_type": "execute_result"
    }
   ],
   "source": [
    "list1.remove_at_any(5)\n",
    "list1.print_list()"
   ]
  },
  {
   "cell_type": "code",
   "execution_count": 9,
   "id": "d0e1393e",
   "metadata": {},
   "outputs": [
    {
     "data": {
      "text/plain": [
       "'9-->3-->5-->1000-->'"
      ]
     },
     "execution_count": 9,
     "metadata": {},
     "output_type": "execute_result"
    }
   ],
   "source": [
    "list1.remove_by_value(100)\n",
    "list1.print_list()"
   ]
  },
  {
   "cell_type": "code",
   "execution_count": null,
   "id": "dbe4f0e9",
   "metadata": {},
   "outputs": [],
   "source": []
  },
  {
   "cell_type": "code",
   "execution_count": null,
   "id": "8b684e88",
   "metadata": {},
   "outputs": [],
   "source": []
  },
  {
   "cell_type": "markdown",
   "id": "332ce0e3",
   "metadata": {},
   "source": [
    "# Doubly Linkedlist"
   ]
  },
  {
   "cell_type": "code",
   "execution_count": 10,
   "id": "380e2a64",
   "metadata": {},
   "outputs": [],
   "source": [
    "class Node:  # will have the data along with the references of both previous and next\n",
    "    def __init__(self , data):\n",
    "        self.previous=None\n",
    "        self.data = data \n",
    "        self.next=None\n",
    "    \n",
    "    \n",
    "    \n",
    "class DoublyLinkedlist:   \n",
    "    def __init__(self):\n",
    "        self.head=None\n",
    "        self.tail=None              # tail - last node pointer \n",
    "        \n",
    "    def insert_at_start(self , data):\n",
    "        if self.head is None:\n",
    "            node=Node(data)\n",
    "            node.next=self.head\n",
    "            self.head=node\n",
    "            self.tail=node\n",
    "            return \n",
    "        \n",
    "        node=Node(data)\n",
    "        node.next=self.head\n",
    "        self.head.previous=node\n",
    "        self.head=node\n",
    "        return\n",
    "    \n",
    "    def insert_at_end(self , data):\n",
    "        if self.head is None:\n",
    "            self.insert_at_start(data)\n",
    "            return \n",
    "        \n",
    "        itr=self.head\n",
    "        while(itr.next != None):\n",
    "            itr=itr.next\n",
    "        node=Node(data)\n",
    "        node.previous=itr\n",
    "        itr.next=node\n",
    "        self.tail=node\n",
    "        return \n",
    "     \n",
    "    def insert_at_any(self , data , position):\n",
    "        if position==0:\n",
    "            self.insert_at_start(data)\n",
    "            return \n",
    "        elif(position==self.lenght_of_list()):\n",
    "            self.insert_at_end(data)\n",
    "            return \n",
    "        elif(position>0 or position<self.lenght_of_list()):\n",
    "            \n",
    "            count=0\n",
    "            itr=self.head\n",
    "            while(itr):\n",
    "                if count==position-1:\n",
    "                    node=Node(data)\n",
    "                    node.next=itr.next\n",
    "                    node.previous=itr\n",
    "                    itr.next , itr.next.previous = node , node\n",
    "                    break   \n",
    "                    \n",
    "                count+=1\n",
    "                itr=itr.next\n",
    "        else:\n",
    "            return 'Enter the valid position'\n",
    "     \n",
    "    \n",
    "    def remove_node_from_anyPosition(self , position):\n",
    "        if position<0 or position>=self.lenght_of_list():\n",
    "            return 'Enter the valid position'\n",
    "        else:\n",
    "            if position==0:\n",
    "                if self.lenght_of_list()==1:\n",
    "                    self.head=None \n",
    "                    self.tail=None\n",
    "                    return\n",
    "                self.head=self.head.next\n",
    "                self.head.previous=None\n",
    "                return\n",
    "            \n",
    "            count=0\n",
    "            itr=self.head\n",
    "            while(itr):\n",
    "                if count==position-1:\n",
    "                    itr.next=itr.next.next\n",
    "                    itr.next.previous=itr\n",
    "                    break\n",
    "                count+=1\n",
    "                itr=itr.next\n",
    "    \n",
    "    \n",
    "    def lenght_of_list(self):\n",
    "        count=0\n",
    "        itr=self.head\n",
    "        while(itr):\n",
    "            count+=1\n",
    "            itr=itr.next\n",
    "        return count\n",
    "    \n",
    "    \n",
    "    def print_from_start(self):\n",
    "        if self.head==None:\n",
    "            return 'Emtpy list'\n",
    "        \n",
    "        llstr=''\n",
    "        itr=self.head\n",
    "        while(itr):\n",
    "            llstr+=str(itr.data)+'-->'\n",
    "            itr=itr.next\n",
    "        return llstr\n",
    "    \n",
    "    def print_from_last(self):    # To reverse the linkedlist by the help of tail reference\n",
    "        if self.head==None:\n",
    "            return 'Emtpy list'\n",
    "        \n",
    "        llstr=''\n",
    "        itr=self.tail\n",
    "        while(itr):\n",
    "            llstr+=str(itr.data)+'-->'\n",
    "            itr=itr.previous\n",
    "        return llstr"
   ]
  },
  {
   "cell_type": "code",
   "execution_count": 11,
   "id": "f6955304",
   "metadata": {},
   "outputs": [],
   "source": [
    "Linkedlist1= DoublyLinkedlist()"
   ]
  },
  {
   "cell_type": "code",
   "execution_count": 12,
   "id": "ae1462d6",
   "metadata": {},
   "outputs": [
    {
     "data": {
      "text/plain": [
       "(10, 10)"
      ]
     },
     "execution_count": 12,
     "metadata": {},
     "output_type": "execute_result"
    }
   ],
   "source": [
    "Linkedlist1.insert_at_start(10)\n",
    "Linkedlist1.print_from_start()\n",
    "Linkedlist1.head.data , Linkedlist1.tail.data  # values of head and tail when one element present"
   ]
  },
  {
   "cell_type": "code",
   "execution_count": 13,
   "id": "f8b964f3",
   "metadata": {},
   "outputs": [
    {
     "data": {
      "text/plain": [
       "'8-->10-->'"
      ]
     },
     "execution_count": 13,
     "metadata": {},
     "output_type": "execute_result"
    }
   ],
   "source": [
    "Linkedlist1.insert_at_start(8)\n",
    "Linkedlist1.print_from_start()\n",
    "Linkedlist1.print_from_start()"
   ]
  },
  {
   "cell_type": "code",
   "execution_count": 14,
   "id": "ea28742b",
   "metadata": {},
   "outputs": [
    {
     "data": {
      "text/plain": [
       "(8, 10)"
      ]
     },
     "execution_count": 14,
     "metadata": {},
     "output_type": "execute_result"
    }
   ],
   "source": [
    "Linkedlist1.head.data , Linkedlist1.tail.data"
   ]
  },
  {
   "cell_type": "code",
   "execution_count": 15,
   "id": "ad237ec0",
   "metadata": {},
   "outputs": [
    {
     "data": {
      "text/plain": [
       "2"
      ]
     },
     "execution_count": 15,
     "metadata": {},
     "output_type": "execute_result"
    }
   ],
   "source": [
    "Linkedlist1.lenght_of_list()"
   ]
  },
  {
   "cell_type": "code",
   "execution_count": 16,
   "id": "615e26cf",
   "metadata": {},
   "outputs": [
    {
     "data": {
      "text/plain": [
       "'8-->10-->100-->'"
      ]
     },
     "execution_count": 16,
     "metadata": {},
     "output_type": "execute_result"
    }
   ],
   "source": [
    "Linkedlist1.insert_at_end(100)\n",
    "Linkedlist1.print_from_start()"
   ]
  },
  {
   "cell_type": "code",
   "execution_count": 17,
   "id": "70ec9891",
   "metadata": {},
   "outputs": [
    {
     "data": {
      "text/plain": [
       "'8-->10-->100-->2000-->'"
      ]
     },
     "execution_count": 17,
     "metadata": {},
     "output_type": "execute_result"
    }
   ],
   "source": [
    "Linkedlist1.insert_at_any(2000,3)\n",
    "Linkedlist1.print_from_start()"
   ]
  },
  {
   "cell_type": "code",
   "execution_count": 18,
   "id": "2b8a05df",
   "metadata": {},
   "outputs": [
    {
     "data": {
      "text/plain": [
       "'2000-->100-->10-->8-->'"
      ]
     },
     "execution_count": 18,
     "metadata": {},
     "output_type": "execute_result"
    }
   ],
   "source": [
    "Linkedlist1.print_from_last()"
   ]
  },
  {
   "cell_type": "code",
   "execution_count": 19,
   "id": "4abb7924",
   "metadata": {},
   "outputs": [
    {
     "data": {
      "text/plain": [
       "'8-->10-->100-->2000-->'"
      ]
     },
     "execution_count": 19,
     "metadata": {},
     "output_type": "execute_result"
    }
   ],
   "source": [
    "Linkedlist1.print_from_start()"
   ]
  },
  {
   "cell_type": "code",
   "execution_count": 20,
   "id": "6b6c34b8",
   "metadata": {},
   "outputs": [
    {
     "data": {
      "text/plain": [
       "'10-->100-->2000-->'"
      ]
     },
     "execution_count": 20,
     "metadata": {},
     "output_type": "execute_result"
    }
   ],
   "source": [
    "Linkedlist1.remove_node_from_anyPosition(0)\n",
    "Linkedlist1.print_from_start()"
   ]
  },
  {
   "cell_type": "code",
   "execution_count": 21,
   "id": "00957061",
   "metadata": {},
   "outputs": [
    {
     "data": {
      "text/plain": [
       "'2000-->100-->10-->'"
      ]
     },
     "execution_count": 21,
     "metadata": {},
     "output_type": "execute_result"
    }
   ],
   "source": [
    "Linkedlist1.print_from_last()"
   ]
  },
  {
   "cell_type": "code",
   "execution_count": null,
   "id": "7ebe5d78",
   "metadata": {},
   "outputs": [],
   "source": []
  }
 ],
 "metadata": {
  "kernelspec": {
   "display_name": "Python 3",
   "language": "python",
   "name": "python3"
  },
  "language_info": {
   "codemirror_mode": {
    "name": "ipython",
    "version": 3
   },
   "file_extension": ".py",
   "mimetype": "text/x-python",
   "name": "python",
   "nbconvert_exporter": "python",
   "pygments_lexer": "ipython3",
   "version": "3.7.10"
  }
 },
 "nbformat": 4,
 "nbformat_minor": 5
}
